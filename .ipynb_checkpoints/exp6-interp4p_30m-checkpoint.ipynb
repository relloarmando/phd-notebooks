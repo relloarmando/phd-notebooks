{
 "cells": [
  {
   "cell_type": "code",
   "execution_count": 1,
   "metadata": {},
   "outputs": [],
   "source": [
    "#   SODAR     LON 103.77  LAT 19.28,                      LON 103.77  LAT 19.28,\n",
    "# uv[0,20,56] =  -103.767  ,  19.3712       # uv[0,20,57] =  -103.681  ,  19.2907\n",
    "# uv[0,20,56] =  -103.767  ,  19.2903*      # uv[0,20,56] =  -103.767  ,  19.2903*\n",
    "# uv[0,20,55] =  -103.853  ,  19.2899*      # uv[0,18,56] =  -103.766  ,  19.1286 \n",
    "# uv[0,19,56] =  -103.767  ,  19.2095*      # uv[0,20,55] =  -103.853  ,  19.2899* \n",
    "# uv[0,19,55] =  -103.852  ,  19.209 *      # uv[0,20,54] =  -103.938  ,  19.2894\n",
    "# ds083 GFS NAM\n",
    "# p1s1 p2s2 p7s7"
   ]
  },
  {
   "cell_type": "code",
   "execution_count": 1,
   "metadata": {},
   "outputs": [
    {
     "name": "stderr",
     "output_type": "stream",
     "text": [
      "C:\\Users\\dell\\Anaconda3\\lib\\site-packages\\xarray\\core\\merge.py:10: FutureWarning: The Panel class is removed from pandas. Accessing it from the top-level namespace will also be removed in the next version\n",
      "  PANDAS_TYPES = (pd.Series, pd.DataFrame, pd.Panel)\n"
     ]
    }
   ],
   "source": [
    "from netCDF4 import Dataset\n",
    "import numpy as np\n",
    "import pandas as pd\n",
    "import matplotlib.pyplot as plt\n",
    "import wrf \n",
    "from wrf import getvar, vinterp, ALL_TIMES, destagger, to_np, interplevel"
   ]
  },
  {
   "cell_type": "code",
   "execution_count": 2,
   "metadata": {},
   "outputs": [
    {
     "name": "stdout",
     "output_type": "stream",
     "text": [
      "145 2012-08-16 12:00:00 2012-08-19 12:00:00\n"
     ]
    },
    {
     "name": "stderr",
     "output_type": "stream",
     "text": [
      "C:\\Users\\dell\\Anaconda3\\lib\\site-packages\\xarray\\core\\dataarray.py:217: FutureWarning: The Panel class is removed from pandas. Accessing it from the top-level namespace will also be removed in the next version\n",
      "  elif isinstance(data, pd.Panel):\n"
     ]
    }
   ],
   "source": [
    "## f = '/mnt/sda2/exp6_llj/d03/20120816_d03_nam32_p1r1.nc'\n",
    "f = '/../../../d03/20120816_d03_nam32_p1r1.nc'\n",
    "ncfile = Dataset(f)\n",
    "wrftime = getvar(ncfile, \"times\", timeidx=ALL_TIMES)\n",
    "utc2loc = np.timedelta64(6,'h')\n",
    "wrftime10m = pd.to_datetime(wrftime.values)-utc2loc\n",
    "wrftimeh = pd.to_datetime(wrftime[::3].values)-utc2loc\n",
    "timelabel = wrftimeh\n",
    "date1, date2 = wrftimeh[0], wrftimeh[wrftimeh.size-1]\n",
    "print(wrftimeh.size, date1, date2)"
   ]
  },
  {
   "cell_type": "code",
   "execution_count": 3,
   "metadata": {},
   "outputs": [
    {
     "data": {
      "text/plain": [
       "<xarray.DataArray 'tv' ()>\n",
       "array(33.12079, dtype=float32)\n",
       "Coordinates:\n",
       "    XLONG    float32 -103.77844\n",
       "    XLAT     float32 19.280983\n",
       "    XTIME    float32 0.0\n",
       "    Time     datetime64[ns] 2012-08-16T18:00:00\n",
       "Attributes:\n",
       "    FieldType:      104\n",
       "    MemoryOrder:    XYZ\n",
       "    description:    virtual temperature\n",
       "    units:          degC\n",
       "    stagger:        \n",
       "    coordinates:    XLONG XLAT XTIME\n",
       "    projection:     LambertConformal(stand_lon=-101.25, moad_cen_lat=21.50001...\n",
       "    _FillValue:     1e+20\n",
       "    missing_value:  1e+20"
      ]
     },
     "execution_count": 3,
     "metadata": {},
     "output_type": "execute_result"
    }
   ],
   "source": [
    "tv0 = getvar(ncfile, \"tv\", units=\"degC\", timeidx=0)\n",
    "tv0[2,24,20]\n"
   ]
  },
  {
   "cell_type": "code",
   "execution_count": 5,
   "metadata": {},
   "outputs": [
    {
     "name": "stdout",
     "output_type": "stream",
     "text": [
      "20120816_d03_gfs05_p1r1 g1r1\n"
     ]
    }
   ],
   "source": [
    "#uv['Time'] = uv['Time'] - utc2loc\n",
    "##  /mnt/sda2/exp6_llj/d03/\n",
    "\n",
    "expruns = ['20120816_d03_gfs05_p1r1', '20120816_d03_gfs05_p1r3','20120816_d03_gfs05_p1r5',\n",
    "           '20120816_d03_gfs05_p2r1', '20120816_d03_gfs05_p2r3','20120816_d03_gfs05_p2r5',\n",
    "           '20120816_d03_nam32_p1r1', '20120816_d03_nam32_p1r3','20120816_d03_nam32_p1r5',\n",
    "           '20120816_d03_nam32_p2r1', '20120816_d03_nam32_p2r3','20120816_d03_nam32_p2r5']\n",
    "expnames = ['g1r1', 'g1r3', 'g1r5', 'g2r1', 'g2r3', 'g2r5', \n",
    "            'n1r1', 'n1r3', 'n1r5', 'n2r1', 'n2r3', 'n2r5']\n",
    "print(expruns[0], expnames[0])"
   ]
  },
  {
   "cell_type": "markdown",
   "metadata": {},
   "source": [
    "######   WRF TIME AVERAGE 30min at SODAR  #######\n",
    "# (UV DIR, times, level, lat, lon) [0,:,:,20,56]\n",
    "# SODAR   LAT 19.28, LON 103.77\n",
    "k=0\n",
    "lat, lon = 24, 20\n",
    "int_levs = [.030, .040, .050, .100, .150, .200, .250, .300, .350, .400, .450, .500]\n",
    "lats, lons = [lat-1, lat, lat+1], [lon-1, lon, lon+1]\n",
    "sn, we = 'south_north', 'west_east'\n",
    "\n",
    "for exprun in expruns:\n",
    "    #exprun = '20120816_ds083_p1s1'\n",
    "    #f= '/mnt/sda2/exp6_llj/d03/'+exprun+'.nc'\n",
    "    f = '/../../../d03/'+exprun+'.nc'\n",
    "    ncfile = Dataset(f)\n",
    "\n",
    "    uv, wdir = getvar(ncfile, \"uvmet_wspd_wdir\", units=\"m s-1\", timeidx=ALL_TIMES)\n",
    "    tmpv = getvar(ncfile, \"tv\", units=\"degC\", timeidx=ALL_TIMES)\n",
    "\n",
    "    wind_ds = vinterp(ncfile, field=uv, vert_coord='ght_agl', interp_levels=int_levs, timeidx=ALL_TIMES, field_type='z')\n",
    "    seriesw = wind_ds[:,:,lats,lons].mean(dim=[sn,we]).resample(Time='30min').mean(dim='Time')\n",
    "    seriesw['Time'] = seriesw['Time'] - utc2loc\n",
    "\n",
    "    wdir_ds = vinterp(ncfile, field=wdir, vert_coord='ght_agl', interp_levels=int_levs, timeidx=ALL_TIMES) \n",
    "    seriesd = wdir_ds[:,:,lats,lons].mean(dim=[sn,we]).resample(Time='30min').mean(dim='Time')\n",
    "    seriesd['Time'] = seriesd['Time'] - utc2loc\n",
    "\n",
    "    tmpv_ds = vinterp(ncfile, field=tmpv, vert_coord='ght_agl', interp_levels=int_levs, timeidx=ALL_TIMES) \n",
    "    seriest = tmpv_ds[:,:,lats,lons].mean(dim=[sn,we]).resample(Time='30min').mean(dim='Time')\n",
    "    seriest['Time'] = seriest['Time'] - utc2loc\n",
    "\n",
    "    ds1 = seriesw.to_dataset(name='uv30')\n",
    "    ds2 = seriesd.to_dataset(name='wd30')\n",
    "    ds3 = seriest.to_dataset(name='tv30')\n",
    "\n",
    "    ds3.combine_first(ds2.combine_first(ds1)).to_netcdf('interp30/sodar_'+str(expnames[k])+'.nc')\n",
    "    \n",
    "    print('done '+str(k)+' '+exprun)\n",
    "    k=k+1\n"
   ]
  },
  {
   "cell_type": "code",
   "execution_count": 6,
   "metadata": {},
   "outputs": [
    {
     "name": "stderr",
     "output_type": "stream",
     "text": [
      "C:\\Users\\dell\\Anaconda3\\lib\\site-packages\\xarray\\coding\\times.py:240: FutureWarning: the 'box' keyword is deprecated and will be removed in a future version. Please take steps to stop the use of 'box'\n",
      "  dates = pd.to_datetime(dates, box=False)\n"
     ]
    },
    {
     "name": "stdout",
     "output_type": "stream",
     "text": [
      "done 0 20120816_d03_gfs05_p1r1\n"
     ]
    },
    {
     "name": "stderr",
     "output_type": "stream",
     "text": [
      "C:\\Users\\dell\\Anaconda3\\lib\\site-packages\\wrf\\util.py:779: RuntimeWarning: invalid value encountered in equal\n",
      "  lats = first_wrfnc.variables[lat_coord][:]\n",
      "C:\\Users\\dell\\Anaconda3\\lib\\site-packages\\wrf\\util.py:780: RuntimeWarning: invalid value encountered in equal\n",
      "  lons = first_wrfnc.variables[lon_coord][:]\n",
      "C:\\Users\\dell\\Anaconda3\\lib\\site-packages\\wrf\\util.py:659: RuntimeWarning: invalid value encountered in equal\n",
      "  lats = wrfnc.variables[latvar][:]\n",
      "C:\\Users\\dell\\Anaconda3\\lib\\site-packages\\wrf\\util.py:660: RuntimeWarning: invalid value encountered in equal\n",
      "  lons = wrfnc.variables[lonvar][:]\n",
      "C:\\Users\\dell\\Anaconda3\\lib\\site-packages\\wrf\\util.py:1255: RuntimeWarning: invalid value encountered in equal\n",
      "  data = var[time_idx_or_slice, :]\n",
      "C:\\Users\\dell\\Anaconda3\\lib\\site-packages\\wrf\\util.py:1310: RuntimeWarning: invalid value encountered in equal\n",
      "  lon_coord_vals = lon_var[:]\n",
      "C:\\Users\\dell\\Anaconda3\\lib\\site-packages\\wrf\\util.py:1323: RuntimeWarning: invalid value encountered in equal\n",
      "  lat_coord_vals = lat_var[:]\n",
      "C:\\Users\\dell\\Anaconda3\\lib\\site-packages\\wrf\\util.py:2223: RuntimeWarning: invalid value encountered in equal\n",
      "  result = wrfin.variables[varname][:]\n",
      "C:\\Users\\dell\\Anaconda3\\lib\\site-packages\\numpy\\ma\\core.py:1018: RuntimeWarning: overflow encountered in add\n",
      "  result = self.f(da, db, *args, **kwargs)\n"
     ]
    },
    {
     "ename": "ValueError",
     "evalue": "index must be monotonic for resampling",
     "output_type": "error",
     "traceback": [
      "\u001b[1;31m---------------------------------------------------------------------------\u001b[0m",
      "\u001b[1;31mValueError\u001b[0m                                Traceback (most recent call last)",
      "\u001b[1;32m<ipython-input-6-356377e8018f>\u001b[0m in \u001b[0;36m<module>\u001b[1;34m\u001b[0m\n\u001b[0;32m     15\u001b[0m     \u001b[0mp\u001b[0m \u001b[1;33m=\u001b[0m \u001b[0mgetvar\u001b[0m\u001b[1;33m(\u001b[0m\u001b[0mncfile\u001b[0m\u001b[1;33m,\u001b[0m \u001b[1;34m\"p\"\u001b[0m\u001b[1;33m,\u001b[0m \u001b[0munits\u001b[0m\u001b[1;33m=\u001b[0m\u001b[1;34m\"hPa\"\u001b[0m\u001b[1;33m,\u001b[0m \u001b[0mtimeidx\u001b[0m\u001b[1;33m=\u001b[0m\u001b[0mALL_TIMES\u001b[0m\u001b[1;33m)\u001b[0m\u001b[1;33m[\u001b[0m\u001b[1;33m:\u001b[0m\u001b[1;33m,\u001b[0m\u001b[1;33m:\u001b[0m\u001b[0mztop\u001b[0m\u001b[1;33m,\u001b[0m\u001b[1;33m:\u001b[0m\u001b[1;33m,\u001b[0m\u001b[1;33m:\u001b[0m\u001b[1;33m]\u001b[0m\u001b[1;33m\u001b[0m\u001b[1;33m\u001b[0m\u001b[0m\n\u001b[0;32m     16\u001b[0m \u001b[1;33m\u001b[0m\u001b[0m\n\u001b[1;32m---> 17\u001b[1;33m     \u001b[0mua30\u001b[0m \u001b[1;33m=\u001b[0m \u001b[0mua\u001b[0m\u001b[1;33m.\u001b[0m\u001b[0mresample\u001b[0m\u001b[1;33m(\u001b[0m\u001b[0mTime\u001b[0m\u001b[1;33m=\u001b[0m\u001b[1;34m'30min'\u001b[0m\u001b[1;33m)\u001b[0m\u001b[1;33m.\u001b[0m\u001b[0mmean\u001b[0m\u001b[1;33m(\u001b[0m\u001b[0mdim\u001b[0m\u001b[1;33m=\u001b[0m\u001b[1;34m'Time'\u001b[0m\u001b[1;33m)\u001b[0m\u001b[1;33m\u001b[0m\u001b[1;33m\u001b[0m\u001b[0m\n\u001b[0m\u001b[0;32m     18\u001b[0m     \u001b[0mua30\u001b[0m\u001b[1;33m[\u001b[0m\u001b[1;34m'Time'\u001b[0m\u001b[1;33m]\u001b[0m \u001b[1;33m=\u001b[0m \u001b[0mua30\u001b[0m\u001b[1;33m[\u001b[0m\u001b[1;34m'Time'\u001b[0m\u001b[1;33m]\u001b[0m \u001b[1;33m-\u001b[0m \u001b[0mutc2loc\u001b[0m\u001b[1;33m\u001b[0m\u001b[1;33m\u001b[0m\u001b[0m\n\u001b[0;32m     19\u001b[0m     \u001b[0mva30\u001b[0m \u001b[1;33m=\u001b[0m \u001b[0mva\u001b[0m\u001b[1;33m.\u001b[0m\u001b[0mresample\u001b[0m\u001b[1;33m(\u001b[0m\u001b[0mTime\u001b[0m\u001b[1;33m=\u001b[0m\u001b[1;34m'30min'\u001b[0m\u001b[1;33m)\u001b[0m\u001b[1;33m.\u001b[0m\u001b[0mmean\u001b[0m\u001b[1;33m(\u001b[0m\u001b[0mdim\u001b[0m\u001b[1;33m=\u001b[0m\u001b[1;34m'Time'\u001b[0m\u001b[1;33m)\u001b[0m\u001b[1;33m\u001b[0m\u001b[1;33m\u001b[0m\u001b[0m\n",
      "\u001b[1;32m~\\Anaconda3\\lib\\site-packages\\xarray\\core\\common.py\u001b[0m in \u001b[0;36mresample\u001b[1;34m(self, indexer, skipna, closed, label, base, keep_attrs, loffset, **indexer_kwargs)\u001b[0m\n\u001b[0;32m    709\u001b[0m         resampler = self._resample_cls(self, group=group, dim=dim_name,\n\u001b[0;32m    710\u001b[0m                                        \u001b[0mgrouper\u001b[0m\u001b[1;33m=\u001b[0m\u001b[0mgrouper\u001b[0m\u001b[1;33m,\u001b[0m\u001b[1;33m\u001b[0m\u001b[1;33m\u001b[0m\u001b[0m\n\u001b[1;32m--> 711\u001b[1;33m                                        resample_dim=RESAMPLE_DIM)\n\u001b[0m\u001b[0;32m    712\u001b[0m \u001b[1;33m\u001b[0m\u001b[0m\n\u001b[0;32m    713\u001b[0m         \u001b[1;32mreturn\u001b[0m \u001b[0mresampler\u001b[0m\u001b[1;33m\u001b[0m\u001b[1;33m\u001b[0m\u001b[0m\n",
      "\u001b[1;32m~\\Anaconda3\\lib\\site-packages\\xarray\\core\\resample.py\u001b[0m in \u001b[0;36m__init__\u001b[1;34m(self, *args, **kwargs)\u001b[0m\n\u001b[0;32m    128\u001b[0m                              \u001b[1;34m\"cannot have the same name as actual dimension \"\u001b[0m\u001b[1;33m\u001b[0m\u001b[1;33m\u001b[0m\u001b[0m\n\u001b[0;32m    129\u001b[0m                              \"('{}')! \".format(self._resample_dim, self._dim))\n\u001b[1;32m--> 130\u001b[1;33m         \u001b[0msuper\u001b[0m\u001b[1;33m(\u001b[0m\u001b[0mDataArrayResample\u001b[0m\u001b[1;33m,\u001b[0m \u001b[0mself\u001b[0m\u001b[1;33m)\u001b[0m\u001b[1;33m.\u001b[0m\u001b[0m__init__\u001b[0m\u001b[1;33m(\u001b[0m\u001b[1;33m*\u001b[0m\u001b[0margs\u001b[0m\u001b[1;33m,\u001b[0m \u001b[1;33m**\u001b[0m\u001b[0mkwargs\u001b[0m\u001b[1;33m)\u001b[0m\u001b[1;33m\u001b[0m\u001b[1;33m\u001b[0m\u001b[0m\n\u001b[0m\u001b[0;32m    131\u001b[0m \u001b[1;33m\u001b[0m\u001b[0m\n\u001b[0;32m    132\u001b[0m     \u001b[1;32mdef\u001b[0m \u001b[0mapply\u001b[0m\u001b[1;33m(\u001b[0m\u001b[0mself\u001b[0m\u001b[1;33m,\u001b[0m \u001b[0mfunc\u001b[0m\u001b[1;33m,\u001b[0m \u001b[0mshortcut\u001b[0m\u001b[1;33m=\u001b[0m\u001b[1;32mFalse\u001b[0m\u001b[1;33m,\u001b[0m \u001b[0margs\u001b[0m\u001b[1;33m=\u001b[0m\u001b[1;33m(\u001b[0m\u001b[1;33m)\u001b[0m\u001b[1;33m,\u001b[0m \u001b[1;33m**\u001b[0m\u001b[0mkwargs\u001b[0m\u001b[1;33m)\u001b[0m\u001b[1;33m:\u001b[0m\u001b[1;33m\u001b[0m\u001b[1;33m\u001b[0m\u001b[0m\n",
      "\u001b[1;32m~\\Anaconda3\\lib\\site-packages\\xarray\\core\\groupby.py\u001b[0m in \u001b[0;36m__init__\u001b[1;34m(self, obj, group, squeeze, grouper, bins, cut_kwargs)\u001b[0m\n\u001b[0;32m    260\u001b[0m             \u001b[1;32mif\u001b[0m \u001b[1;32mnot\u001b[0m \u001b[0mindex\u001b[0m\u001b[1;33m.\u001b[0m\u001b[0mis_monotonic\u001b[0m\u001b[1;33m:\u001b[0m\u001b[1;33m\u001b[0m\u001b[1;33m\u001b[0m\u001b[0m\n\u001b[0;32m    261\u001b[0m                 \u001b[1;31m# TODO: sort instead of raising an error\u001b[0m\u001b[1;33m\u001b[0m\u001b[1;33m\u001b[0m\u001b[1;33m\u001b[0m\u001b[0m\n\u001b[1;32m--> 262\u001b[1;33m                 \u001b[1;32mraise\u001b[0m \u001b[0mValueError\u001b[0m\u001b[1;33m(\u001b[0m\u001b[1;34m'index must be monotonic for resampling'\u001b[0m\u001b[1;33m)\u001b[0m\u001b[1;33m\u001b[0m\u001b[1;33m\u001b[0m\u001b[0m\n\u001b[0m\u001b[0;32m    263\u001b[0m             \u001b[0ms\u001b[0m \u001b[1;33m=\u001b[0m \u001b[0mpd\u001b[0m\u001b[1;33m.\u001b[0m\u001b[0mSeries\u001b[0m\u001b[1;33m(\u001b[0m\u001b[0mnp\u001b[0m\u001b[1;33m.\u001b[0m\u001b[0marange\u001b[0m\u001b[1;33m(\u001b[0m\u001b[0mindex\u001b[0m\u001b[1;33m.\u001b[0m\u001b[0msize\u001b[0m\u001b[1;33m)\u001b[0m\u001b[1;33m,\u001b[0m \u001b[0mindex\u001b[0m\u001b[1;33m)\u001b[0m\u001b[1;33m\u001b[0m\u001b[1;33m\u001b[0m\u001b[0m\n\u001b[0;32m    264\u001b[0m             \u001b[0mfirst_items\u001b[0m \u001b[1;33m=\u001b[0m \u001b[0ms\u001b[0m\u001b[1;33m.\u001b[0m\u001b[0mgroupby\u001b[0m\u001b[1;33m(\u001b[0m\u001b[0mgrouper\u001b[0m\u001b[1;33m)\u001b[0m\u001b[1;33m.\u001b[0m\u001b[0mfirst\u001b[0m\u001b[1;33m(\u001b[0m\u001b[1;33m)\u001b[0m\u001b[1;33m\u001b[0m\u001b[1;33m\u001b[0m\u001b[0m\n",
      "\u001b[1;31mValueError\u001b[0m: index must be monotonic for resampling"
     ]
    }
   ],
   "source": [
    "######   WRF TIME AVERAGE 30m   #######\n",
    "utc2loc = np.timedelta64(6,'h')\n",
    "k=0\n",
    "ztop=12\n",
    "for exprun in expruns:\n",
    "    #f= '../../../d03/'+exprun+'.nc'\n",
    "    f = '/../../../d03/'+exprun+'.nc'\n",
    "    ncfile = Dataset(f)\n",
    "\n",
    "    ua = getvar(ncfile, \"ua\", units=\"ms-1\", timeidx=ALL_TIMES)[:,:ztop,:,:]\n",
    "    va = getvar(ncfile, \"va\", units=\"ms-1\", timeidx=ALL_TIMES)[:,:ztop,:,:]\n",
    "    wa = getvar(ncfile, \"wa\", units=\"ms-1\", timeidx=ALL_TIMES)[:,:ztop,:,:]\n",
    "    tv = getvar(ncfile, \"tv\", units=\"degC\", timeidx=ALL_TIMES)[:,:ztop,:,:]\n",
    "    z = getvar(ncfile, \"z\", units=\"m\", timeidx=ALL_TIMES)[:,:ztop,:,:]\n",
    "    p = getvar(ncfile, \"p\", units=\"hPa\", timeidx=ALL_TIMES)[:,:ztop,:,:]\n",
    "    \n",
    "    ua30 = ua.resample(Time='30min').mean(dim='Time')\n",
    "    ua30['Time'] = ua30['Time'] - utc2loc\n",
    "    va30 = va.resample(Time='30min').mean(dim='Time')\n",
    "    va30['Time'] = va30['Time'] - utc2loc\n",
    "    wa30 = wa.resample(Time='30min').mean(dim='Time')\n",
    "    wa30['Time'] = wa30['Time'] - utc2loc\n",
    "    \n",
    "    tv30 = tv.resample(Time='30min').mean(dim='Time')\n",
    "    tv30['Time'] = tv30['Time'] - utc2loc\n",
    "    z30 = z.resample(Time='30min').mean(dim='Time')\n",
    "    z30['Time'] = z30['Time'] - utc2loc\n",
    "    p30 = p.resample(Time='30min').mean(dim='Time')\n",
    "    p30['Time'] = p30['Time'] - utc2loc\n",
    "\n",
    "    ds1 = ua30.to_dataset(name='ua30')\n",
    "    ds2 = va30.to_dataset(name='va30')\n",
    "    ds3 = wa30.to_dataset(name='wa30')\n",
    "    ds4 = tv30.to_dataset(name='tv30')\n",
    "    ds5 = z30.to_dataset(name='z30')\n",
    "    ds6 = p30.to_dataset(name='p30')\n",
    "    dswrf = ds6.combine_first(ds5.combine_first(ds4.combine_first(ds3.combine_first(ds2.combine_first(ds1)))))\n",
    "    dswrf.to_netcdf('interp30/'+str(expnames[k])+'.nc')\n",
    "    print('done '+str(k)+' '+exprun)\n",
    "    k=k+1"
   ]
  },
  {
   "cell_type": "code",
   "execution_count": null,
   "metadata": {},
   "outputs": [],
   "source": [
    "# (UV DIR, times, level, lat, lon) [0,:,:,20,56]\n",
    "# SODAR   LAT 19.28, LON 103.77\n",
    "k=1\n",
    "\n",
    "for exprun in expruns:\n",
    "    #exprun = '20120816_ds083_p1s1'\n",
    "    f= '/mnt/sda2/exp6_llj/d03/'+exprun+'.nc'\n",
    "    ncfile = Dataset(f)\n",
    "\n",
    "    uv, wdir = getvar(ncfile, \"uvmet_wspd_wdir\", units=\"m s-1\", timeidx=ALL_TIMES)\n",
    "    tmpv = getvar(ncfile, \"tv\", units=\"degC\", timeidx=ALL_TIMES)\n",
    "\n",
    "    int_levs = [.030, .040, .050, .100, .150, .200, .250, .300, .350, .400, .450, .500]\n",
    "\n",
    "    wind_ds = vinterp(ncfile, field=uv, vert_coord='ght_agl', interp_levels=int_levs, timeidx=ALL_TIMES, field_type='z')\n",
    "    seriesw = wind_ds[:,:,[22,23],[18,19]].mean(dim=['south_north', 'west_east']).resample(Time='30min').mean(dim='Time')\n",
    "    seriesw['Time'] = seriesw['Time'] - utc2loc\n",
    "    seriesw.to_pandas().to_pickle('interp/wind_'+exprun+'.pk')\n",
    "\n",
    "    wdir_ds = vinterp(ncfile, field=wdir, vert_coord='ght_agl', interp_levels=int_levs, timeidx=ALL_TIMES) \n",
    "    seriesd = wdir_ds[:,:,[22,23],[18,19]].mean(dim=['south_north', 'west_east']).resample(Time='30min').mean(dim='Time')\n",
    "    seriesd['Time'] = seriesd['Time'] - utc2loc\n",
    "    seriesd.to_pandas().to_pickle('interp/wdir_'+exprun+'.pk')\n",
    "\n",
    "    tmpv_ds = vinterp(ncfile, field=tmpv, vert_coord='ght_agl', interp_levels=int_levs, timeidx=ALL_TIMES) \n",
    "    seriest = tmpv_ds[:,:,[22,23],[18,19]].mean(dim=['south_north', 'west_east']).resample(Time='30min').mean(dim='Time')\n",
    "    seriest['Time'] = seriest['Time'] - utc2loc\n",
    "    seriest.to_pandas().to_pickle('interp/tmpv_'+exprun+'.pk')\n",
    "    print('done '+str(k)+' '+exprun)\n",
    "    k=k+1\n"
   ]
  },
  {
   "cell_type": "code",
   "execution_count": null,
   "metadata": {},
   "outputs": [],
   "source": [
    " #LEV, LAT, LON      LAT 19.28,   LON 103.77  \n",
    "f = '/home/wrf/WPS/met_em.d01.2012-08-17_00:00:00.nc'\n",
    "ncfile = Dataset(f)\n",
    "uv = getvar(ncfile, \"uvmet_wspd_wdir\", units=\"m s-1\", timeidx=0)[0]\n",
    "wind = uv[0,22,22]\n",
    "print(uv.shape, wind.values, wind['XLAT_M'].values, wind['XLONG_M'].values)\n",
    "print('')\n",
    "Dataset.close\n",
    "f = '/home/wrf/WPS/met_em.d02.2012-08-17_00:00:00.nc'\n",
    "ncfile2 = Dataset(f)\n",
    "uv2 = getvar(ncfile2, \"uvmet_wspd_wdir\", units=\"m s-1\", timeidx=0)[0]\n",
    "wind2 = uv2[0,22,20]\n",
    "print(uv2.shape, wind2.values, wind2['XLAT_M'].values, wind2['XLONG_M'].values)\n",
    "Dataset.close\n",
    "print('')\n",
    "f = '/home/wrf/WPS/met_em.d03.2012-08-17_00:00:00.nc'\n",
    "ncfile3 = Dataset(f)\n",
    "uv3 = getvar(ncfile3, \"uvmet_wspd_wdir\", units=\"m s-1\", timeidx=0)[0]\n",
    "wind3 = uv3[0,24,19]\n",
    "print(uv3.shape, wind3.values, wind3['XLAT_M'].values, wind3['XLONG_M'].values)\n",
    "Dataset.close"
   ]
  },
  {
   "cell_type": "code",
   "execution_count": null,
   "metadata": {},
   "outputs": [],
   "source": [
    "uv[:15,20,:].plot.contourf()"
   ]
  },
  {
   "cell_type": "code",
   "execution_count": null,
   "metadata": {},
   "outputs": [],
   "source": [
    "tv = getvar(ncfile, \"tv\")\n",
    "tv[:15,20,:].plot.contourf()"
   ]
  },
  {
   "cell_type": "code",
   "execution_count": null,
   "metadata": {},
   "outputs": [],
   "source": [
    "#wrf.extract_vars(wrfin, timeidx, varnames\n",
    "p = getvar(ncfile, \"p\")\n",
    "p[:15,20,:].plot.contourf()"
   ]
  },
  {
   "cell_type": "code",
   "execution_count": null,
   "metadata": {},
   "outputs": [],
   "source": [
    "dd = pd.read_pickle('sodar_dd.pk')\n",
    "dd = dd.interpolate()\n",
    "sp = pd.read_pickle('sodar_sp.pk')\n",
    "sp = sp.interpolate()\n",
    "tv = pd.read_pickle('sodar_tv.pk')\n",
    "tv = tv.interpolate()"
   ]
  },
  {
   "cell_type": "code",
   "execution_count": null,
   "metadata": {},
   "outputs": [],
   "source": [
    "from wrf import to_np, getvar, CoordPair, vertcross\n",
    "f = '/mnt/sda2/exp5_llj/201303_nam218.p1s1.nc'\n",
    "ncfile = Dataset(exp+f)\n",
    "p = getvar(ncfile, \"pressure\", timeidx=0)\n",
    "lats = getvar(ncfile, \"lat\", timeidx=0)\n",
    "lons = getvar(ncfile, \"lon\", timeidx=0)\n",
    "print(lats.min(), lats.max())\n",
    "print(lons.min(), lons.max())"
   ]
  },
  {
   "cell_type": "code",
   "execution_count": null,
   "metadata": {},
   "outputs": [],
   "source": []
  }
 ],
 "metadata": {
  "kernelspec": {
   "display_name": "Python 3",
   "language": "python",
   "name": "python3"
  },
  "language_info": {
   "codemirror_mode": {
    "name": "ipython",
    "version": 3
   },
   "file_extension": ".py",
   "mimetype": "text/x-python",
   "name": "python",
   "nbconvert_exporter": "python",
   "pygments_lexer": "ipython3",
   "version": "3.7.4"
  }
 },
 "nbformat": 4,
 "nbformat_minor": 2
}
