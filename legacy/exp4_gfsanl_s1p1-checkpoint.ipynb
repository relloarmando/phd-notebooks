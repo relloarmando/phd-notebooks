{
 "cells": [
  {
   "cell_type": "code",
   "execution_count": 1,
   "metadata": {},
   "outputs": [],
   "source": [
    "from netCDF4 import Dataset\n",
    "import numpy as np\n",
    "import pandas as pd\n",
    "import matplotlib.pyplot as plt\n",
    "import wrf\n",
    "from wrf import getvar, vinterp, ALL_TIMES, destagger, to_np"
   ]
  },
  {
   "cell_type": "code",
   "execution_count": 2,
   "metadata": {
    "scrolled": true
   },
   "outputs": [],
   "source": [
    "directory1='/mnt/sda2/exp4_llj/'\n",
    "directory2='/media/rello/winBak/exp2_201303_sodar/'"
   ]
  },
  {
   "cell_type": "code",
   "execution_count": 2,
   "metadata": {},
   "outputs": [
    {
     "name": "stdout",
     "output_type": "stream",
     "text": [
      "ds083_s1p1_nosst_20130301.nc  gfsanl_s1p1_sst_20130301.nc\r\n",
      "ds083_s1p1_sst_20130301.nc    gfsanl_s7p7_sst_20130301.nc\r\n",
      "ds083_s2p6_sst_20130301.nc    gfsnal_s2p6_sst_20130301.nc\r\n",
      "ds083_s7p7_sst_20130301.nc\r\n"
     ]
    }
   ],
   "source": [
    "ls /mnt/sda2/exp4_llj/"
   ]
  },
  {
   "cell_type": "code",
   "execution_count": 3,
   "metadata": {},
   "outputs": [
    {
     "name": "stdout",
     "output_type": "stream",
     "text": [
      "/mnt/sda2/exp4_llj/ds083_s1p1_sst_20130301.nc\n"
     ]
    }
   ],
   "source": [
    "model='gfsanl'\n",
    "run='s1p1_sst'\n",
    "rtimes='20130301'\n",
    "dirs = 'exp4_llj/'\n",
    "f = directory1+model+'_'+run+'_'+rtimes+'.nc'\n",
    "print(f)"
   ]
  },
  {
   "cell_type": "code",
   "execution_count": null,
   "metadata": {},
   "outputs": [],
   "source": [
    "ds = Dataset(f)\n",
    "uv, wdir = getvar(ds, \"uvmet_wspd_wdir\", units=\"m s-1\", timeidx=ALL_TIMES)\n",
    "tvv = getvar(ds, \"tv\", units=\"degC\", timeidx=ALL_TIMES)\n",
    "tvv.shape"
   ]
  },
  {
   "cell_type": "code",
   "execution_count": null,
   "metadata": {},
   "outputs": [],
   "source": [
    "tvv[0,0,51,41]\n",
    "#XLONG    float32 -103.773\n",
    "#XLAT     float32 19.2801"
   ]
  },
  {
   "cell_type": "code",
   "execution_count": null,
   "metadata": {},
   "outputs": [],
   "source": [
    "# Interpolate levels\n",
    "interp_levels = [.020, .030, .040, .050, .100, .150, .200,\n",
    "                 .250, .300, .350, .400]\n",
    "\n",
    "interp_uv = vinterp(ds, field=uv, vert_coord='ght_agl', interp_levels=interp_levels,\n",
    "                    timeidx=ALL_TIMES, field_type='z')\n",
    "\n",
    "interp_wdir = vinterp(ds, field=wdir, vert_coord='ght_agl', interp_levels=interp_levels,\n",
    "                    timeidx=ALL_TIMES, field_type=\"z\")\n",
    "\n",
    "interp_tv = vinterp(ds, field=tvv, vert_coord='ght_agl', interp_levels=interp_levels,\n",
    "                    timeidx=ALL_TIMES, field_type=\"z\")\n",
    "\n",
    "interp_uv.shape"
   ]
  },
  {
   "cell_type": "code",
   "execution_count": null,
   "metadata": {},
   "outputs": [],
   "source": [
    "wrftime = getvar(wrflist, \"times\", timeidx=ALL_TIMES)\n",
    "utc2loc = np.timedelta64(6,'h')\n",
    "wrftimes = pd.to_datetime(wrftime[::3].values)-utc2loc\n",
    "date1, date2 = wrftimes[0], wrftimes[wrftimes.size-1]\n",
    "print(wrftimes.size, date1, date2)"
   ]
  },
  {
   "cell_type": "code",
   "execution_count": null,
   "metadata": {},
   "outputs": [],
   "source": [
    "timelabel = wrftimes\n",
    "print(timelabel[0], timelabel[144])"
   ]
  },
  {
   "cell_type": "code",
   "execution_count": null,
   "metadata": {},
   "outputs": [],
   "source": [
    "uv10, wdir10 = getvar(wrflist, \"uvmet10_wspd_wdir\", units=\"m s-1\", timeidx=ALL_TIMES)\n",
    "tv10 = getvar(wrflist, \"tv\", units=\"degC\", timeidx=ALL_TIMES)"
   ]
  },
  {
   "cell_type": "code",
   "execution_count": null,
   "metadata": {},
   "outputs": [],
   "source": [
    "wrfuv = interp_uv[:,:,51,41];\n",
    "wrfdd = interp_wdir[:,:,51,41];\n",
    "wrftv = interp_tv[:,:,51,41];\n",
    "dd = pd.read_pickle('sodar_dd.pk')\n",
    "sp = pd.read_pickle('sodar_sp.pk')\n",
    "tv = pd.read_pickle('sodar_tv.pk')"
   ]
  },
  {
   "cell_type": "code",
   "execution_count": null,
   "metadata": {},
   "outputs": [],
   "source": [
    "w10 = uv10[:,0].resample(Time=\"30Min\").mean().values\n",
    "t10 = tv10[:,0].resample(Time=\"30Min\").mean().values\n",
    "w20 = wrfuv[:,0].resample(Time=\"30Min\").mean().values\n",
    "t20 = wrftv[:,0].resample(Time=\"30Min\").mean().values\n",
    "w30 = wrfuv[:,1].resample(Time=\"30Min\").mean().values\n",
    "t30 = wrftv[:,1].resample(Time=\"30Min\").mean().values\n",
    "w40 = wrfuv[:,2].resample(Time=\"30Min\").mean().values\n",
    "t40 = wrftv[:,2].resample(Time=\"30Min\").mean().values\n",
    "w50 = wrfuv[:,3].resample(Time=\"30Min\").mean().values\n",
    "t50 = wrftv[:,3].resample(Time=\"30Min\").mean().values\n",
    "w100 = wrfuv[:,4].resample(Time=\"30Min\").mean().values\n",
    "t100 = wrftv[:,4].resample(Time=\"30Min\").mean().values\n",
    "w150 = wrfuv[:,5].resample(Time=\"30Min\").mean().values\n",
    "t150 = wrftv[:,5].resample(Time=\"30Min\").mean().values\n",
    "w200 = wrfuv[:,6].resample(Time=\"30Min\").mean().values \n",
    "t200 = wrftv[:,6].resample(Time=\"30Min\").mean().values \n",
    "w250 = wrfuv[:,7].resample(Time=\"30Min\").mean().values \n",
    "t250 = wrftv[:,7].resample(Time=\"30Min\").mean().values \n",
    "w300 = wrfuv[:,8].resample(Time=\"30Min\").mean().values \n",
    "t300 = wrftv[:,8].resample(Time=\"30Min\").mean().values \n",
    "w350 = wrfuv[:,9].resample(Time=\"30Min\").mean().values\n",
    "t350 = wrftv[:,9].resample(Time=\"30Min\").mean().values\n",
    "w400 = wrfuv[:,10].resample(Time=\"30Min\").mean().values\n",
    "t400 = wrftv[:,10].resample(Time=\"30Min\").mean().values"
   ]
  },
  {
   "cell_type": "code",
   "execution_count": null,
   "metadata": {},
   "outputs": [],
   "source": [
    "wrftv2=[t10, t20, t30, t40, t50, t100, t150, t200, t250, t300, t350, t400]\n",
    "wrfuv2=[w10, w20, w30, w40, w50, w100, w150, w200, w250, w300, w350, w400]\n",
    "#fig = plt.contourf(wrftv2)\n",
    "#plt.colorbar(fig)"
   ]
  },
  {
   "cell_type": "code",
   "execution_count": null,
   "metadata": {},
   "outputs": [],
   "source": [
    "fig = plt.figure(figsize=[18,6])\n",
    "s50 = sp['spd_50']['2013-03-01 12:00':'2013-03-04 12:00'].values\n",
    "plt.plot(s50, label='sod50')\n",
    "plt.plot(w50, label='wrf50')\n",
    "\n",
    "plt.title('Wind Speed @ 50 m AGL \\n WRF Dominio 3  2013 Marzo 01 - 03')\n",
    "plt.ylabel('Wind')\n",
    "plt.xlabel('Hours')\n",
    "plt.grid(True)\n",
    "plt.legend()\n",
    "\n",
    "# xticks(locs, [labels], **kwargs) \n",
    "plt.xticks(np.arange(0,timelabel.size,6),timelabel[::6], rotation=30)\n",
    "plt.savefig('sodar_20130310_wrf_d03.png', dpi=400)"
   ]
  },
  {
   "cell_type": "code",
   "execution_count": null,
   "metadata": {},
   "outputs": [],
   "source": [
    "fig = plt.figure(figsize=[18,6])\n",
    "s100 = sp['spd_100']['2013-03-01 12:00':'2013-03-04 12:00'].values\n",
    "s200 = sp['spd_200']['2013-03-01 12:00':'2013-03-04 12:00'].values\n",
    "s250 = sp['spd_250']['2013-03-01 12:00':'2013-03-04 12:00'].values\n",
    "s300 = sp['spd_300']['2013-03-01 12:00':'2013-03-04 12:00'].values\n",
    "\n",
    "plt.plot(s100, label='sod100')\n",
    "plt.plot(w100, label='wrf100')\n",
    "plt.plot(s250, label='sod250')\n",
    "plt.plot(w250, label='wrf250')\n",
    "\n",
    "plt.title('Wind Speed @ 100 m AGL ' )\n",
    "plt.ylabel('Wind')\n",
    "plt.xlabel('Days')\n",
    "\n",
    "plt.grid(True)\n",
    "plt.legend()\n",
    "plt.xticks(np.arange(0,timelabel.size,12),timelabel[::12], rotation=30)\n",
    "\n",
    "figname='speed100_250'\n",
    "plt.savefig(dirs+figname+'_'+rtimes+'_'+run+'.png', dpi=300)\n",
    "\n",
    "plt.show()"
   ]
  },
  {
   "cell_type": "code",
   "execution_count": null,
   "metadata": {},
   "outputs": [],
   "source": [
    "import pandas as pd\n",
    "fig = plt.figure(figsize=[18,6])\n",
    "\n",
    "plt.plot(w100, label='w100')\n",
    "plt.plot(w200, label='w200')\n",
    "plt.plot(w300, label='w300')\n",
    "\n",
    "plt.ylabel('Wind')\n",
    "plt.xlabel('Days')\n",
    "\n",
    "plt.grid(True)\n",
    "plt.legend()\n",
    "plt.xticks(np.arange(0,timelabel.size,12),timelabel[::12], rotation=30)\n",
    "\n",
    "plt.title('WRF Speed AGL')\n",
    "figname='wrf_spd_'\n",
    "plt.savefig(dirs+figname+'_'+rtimes+'_'+run+'.png', dpi=300)\n",
    "\n",
    "plt.show()"
   ]
  },
  {
   "cell_type": "code",
   "execution_count": null,
   "metadata": {},
   "outputs": [],
   "source": [
    "import pandas as pd\n",
    "fig = plt.figure(figsize=[18,6])\n",
    "\n",
    "plt.plot(s100, label='s100')\n",
    "plt.plot(s200, label='s200')\n",
    "plt.plot(s300, label='s300')\n",
    "\n",
    "plt.ylabel('Wind')\n",
    "plt.xlabel('Days')\n",
    "\n",
    "plt.grid(True)\n",
    "plt.legend()\n",
    "plt.xticks(np.arange(0,timelabel.size,12),timelabel[::12], rotation=30)\n",
    "\n",
    "plt.title('SODAR Speed AGL')\n",
    "figname='wrf_spd_'\n",
    "plt.savefig(dirs+figname+'_'+rtimes+'_'+run+'.png', dpi=300)\n",
    "\n",
    "plt.show()"
   ]
  },
  {
   "cell_type": "code",
   "execution_count": null,
   "metadata": {},
   "outputs": [],
   "source": [
    "sodss = sp['2013-03-01 12:00':'2013-03-04 12:00'];\n",
    "sodtv = tv['2013-03-01 12:00':'2013-03-04 12:00'];\n",
    "sodss = sodss.T.iloc[:38,:]\n",
    "sodtv = sodtv.T.iloc[:38,:]\n"
   ]
  },
  {
   "cell_type": "code",
   "execution_count": null,
   "metadata": {},
   "outputs": [],
   "source": [
    "plt.figure(figsize=(18,6))\n",
    "cont = plt.contourf(sodss)\n",
    "plt.colorbar(cont)\n",
    "plt.yticks(np.arange(2,38,5), np.arange(50,401,50));\n",
    "plt.xticks(np.arange(0,timelabel.size,12),timelabel[::12], rotation=30)\n",
    "\n",
    "plt.title('SODAR ts WS')\n",
    "figname='SODAR_ts_WS_'\n",
    "plt.savefig(dirs+figname+'_'+rtimes+'_'+run+'.png', dpi=300)"
   ]
  },
  {
   "cell_type": "code",
   "execution_count": null,
   "metadata": {},
   "outputs": [],
   "source": [
    "plt.figure(figsize=(18,6))\n",
    "cont = plt.contourf(wrfuv2)\n",
    "plt.colorbar(cont)\n",
    "plt.xticks(np.arange(0,timelabel.size,12),timelabel[::12], rotation=30)\n",
    "#plt.yticks(np.arange(2,10,1), np.arange(50,401,50));\n",
    "plt.yticks(np.arange(0,12,1), [10, 20, 30, 40, 50, 100, 150, 200, 250, 300, 350, 400]);\n",
    "\n",
    "plt.title('WRF ts WS')\n",
    "figname='WRF_ts_WS_'\n",
    "plt.savefig(dirs+figname+'_'+rtimes+'_'+run+'.png', dpi=300)"
   ]
  },
  {
   "cell_type": "code",
   "execution_count": null,
   "metadata": {},
   "outputs": [],
   "source": [
    "plt.figure(figsize=(18,6))\n",
    "cont = plt.contourf(sodtv)\n",
    "plt.colorbar(cont)\n",
    "plt.yticks(np.arange(2,38,5), np.arange(50,401,50));\n",
    "plt.xticks(np.arange(0,timelabel.size,12),timelabel[::12], rotation=30)\n",
    "\n",
    "plt.title('SODAR ts TV')\n",
    "figname='WRF_ts_TV_'\n",
    "plt.savefig(dirs+figname+'_'+rtimes+'_'+run+'.png', dpi=300)"
   ]
  },
  {
   "cell_type": "code",
   "execution_count": null,
   "metadata": {},
   "outputs": [],
   "source": [
    "plt.figure(figsize=(18,6))\n",
    "cont = plt.contourf(wrftv2)\n",
    "plt.colorbar(cont)\n",
    "plt.xticks(np.arange(0,timelabel.size,12),timelabel[::12], rotation=30);\n",
    "plt.yticks(np.arange(0,12,1), [10, 20, 30, 40, 50, 100, 150, 200, 250, 300, 350, 400]);\n",
    "\n",
    "plt.title('WRF ts TV')\n",
    "figname='WRF_ts_TV_'\n",
    "#plt.savefig(dirs+figname+'_'+rtimes+'_'+run+'.png', dpi=300)"
   ]
  },
  {
   "cell_type": "code",
   "execution_count": null,
   "metadata": {},
   "outputs": [],
   "source": [
    "tt = 68\n",
    "ll = 2\n",
    "str(wrftimes[tt])\n",
    "# interp_uv.shape  (433, 11, 119, 119)\n",
    "# interp_levels = [.020, .030, .040, .050, .100, .150, .200, .250, .300, .350, .400]\n",
    "uvwrf = interp_uv[tt,ll,:,:]\n",
    "wdwrf = interp_wdir[tt,ll,:,:]\n",
    "Twrf = interp_uv[tt,ll,:,:]\n",
    "Pwrf = getvar(wrflist, \"p\", units='hPa', timeidx=tt)[0,:,:]\n",
    "print(wrftimes[tt])\n"
   ]
  },
  {
   "cell_type": "code",
   "execution_count": null,
   "metadata": {},
   "outputs": [],
   "source": [
    "tt=26\n",
    "print(wrftimes[tt])\n",
    "plt.plot([w10[tt], w20[tt], w30[tt], w40[tt], w50[tt], w100[tt],\n",
    "          w150[tt], w200[tt], w250[tt], w300[tt], w350[tt], w400[tt]], \n",
    "         [10, 20, 30, 40, 50, 100, 150, 200, 250, 300, 350, 400]);"
   ]
  },
  {
   "cell_type": "code",
   "execution_count": null,
   "metadata": {},
   "outputs": [],
   "source": [
    "lats = getvar(wrflist, \"lat\", timeidx=20)[:,0]\n",
    "lons = getvar(wrflist, \"lon\", timeidx=20)[0,:]"
   ]
  },
  {
   "cell_type": "code",
   "execution_count": null,
   "metadata": {},
   "outputs": [],
   "source": [
    "plt.figure(figsize=(12,9))\n",
    "\n",
    "cbar = plt.contourf(uvwrf)\n",
    "plt.colorbar(cbar)\n",
    "plt.xticks(np.arange(13,119,15),lons[::15].values, rotation=30);\n",
    "plt.yticks(np.arange(13,119,15), lats[::15].values, rotation=30);\n",
    "\n",
    "plt.title('WRF UV '+str(wrftimes[tt]))\n",
    "figname='WRF_UV_'+str(wrftimes[tt])+'_'\n",
    "plt.savefig(dirs+figname+'_'+rtimes+'_'+run+'.png', dpi=300)"
   ]
  },
  {
   "cell_type": "code",
   "execution_count": null,
   "metadata": {},
   "outputs": [],
   "source": [
    "plt.figure(figsize=(12,9))\n",
    "cbar = plt.contourf(uvwrf*np.cos(wdwrf))\n",
    "plt.colorbar(cbar)\n",
    "plt.xticks(np.arange(13,119,15),lons[::15].values, rotation=30);\n",
    "plt.yticks(np.arange(13,119,15), lats[::15].values, rotation=30);\n",
    "\n",
    "plt.title('WRF V '+str(wrftimes[tt]))\n",
    "figname='WRF_V_'+str(wrftimes[tt])+'_'\n",
    "plt.savefig(dirs+figname+'_'+rtimes+'_'+run+'.png', dpi=300)"
   ]
  },
  {
   "cell_type": "code",
   "execution_count": null,
   "metadata": {},
   "outputs": [],
   "source": [
    "plt.figure(figsize=(12,9))\n",
    "cbar = plt.contourf(uvwrf*np.sin(wdwrf))\n",
    "plt.colorbar(cbar)\n",
    "plt.xticks(np.arange(13,119,15),lons[::15].values, rotation=30);\n",
    "plt.yticks(np.arange(13,119,15), lats[::15].values, rotation=30);\n",
    "\n",
    "plt.title('WRF U '+str(wrftimes[tt]))\n",
    "figname='WRF_U_'+str(wrftimes[tt])+'_'\n",
    "plt.savefig(dirs+figname+'_'+rtimes+'_'+run+'.png', dpi=300)"
   ]
  },
  {
   "cell_type": "code",
   "execution_count": null,
   "metadata": {},
   "outputs": [],
   "source": [
    "plt.figure(figsize=(12,9))\n",
    "cbar = plt.contourf(Pwrf)\n",
    "plt.colorbar(cbar)\n",
    "plt.xticks(np.arange(13,119,15),lats[::15].values, rotation=30);\n",
    "plt.yticks(np.arange(13,119,15), lons[::15].values, rotation=30);\n",
    "\n",
    "plt.title('WRF P hPa '+str(wrftimes[tt]))\n",
    "figname='WRF_P_'+str(wrftimes[tt])+'_'\n",
    "#plt.savefig(dirs+figname+'_'+rtimes+'_'+run+'.png', dpi=300)"
   ]
  },
  {
   "cell_type": "code",
   "execution_count": null,
   "metadata": {},
   "outputs": [],
   "source": [
    "plt.figure(figsize=(12,9))\n",
    "\n",
    "cbar = plt.contourf(Twrf)\n",
    "plt.colorbar(cbar)\n",
    "clab = plt.contour(Pwrf)\n",
    "plt.clabel(clab, clab.levels[::2], fontsize=10, colors='w')\n",
    "plt.xticks(np.arange(13,119,15),lats[::15].values, rotation=30);\n",
    "plt.yticks(np.arange(13,119,15), lons[::15].values, rotation=30);\n",
    "\n",
    "plt.title('WRF TV '+str(wrftimes[tt]))\n",
    "figname='WRF_TV_'+str(wrftimes[tt])+'_'\n",
    "#plt.savefig(dirs+figname+'_'+rtimes+'_'+run+'.png', dpi=300)"
   ]
  },
  {
   "cell_type": "code",
   "execution_count": null,
   "metadata": {},
   "outputs": [],
   "source": []
  }
 ],
 "metadata": {
  "kernelspec": {
   "display_name": "Python 3",
   "language": "python",
   "name": "python3"
  },
  "language_info": {
   "codemirror_mode": {
    "name": "ipython",
    "version": 3
   },
   "file_extension": ".py",
   "mimetype": "text/x-python",
   "name": "python",
   "nbconvert_exporter": "python",
   "pygments_lexer": "ipython3",
   "version": "3.6.4"
  }
 },
 "nbformat": 4,
 "nbformat_minor": 2
}
