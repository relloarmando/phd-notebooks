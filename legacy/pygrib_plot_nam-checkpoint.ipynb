{
 "cells": [
  {
   "cell_type": "markdown",
   "metadata": {},
   "source": [
    "https://jswhit.github.io/pygrib/docs/\n"
   ]
  },
  {
   "cell_type": "code",
   "execution_count": 12,
   "metadata": {},
   "outputs": [
    {
     "name": "stdout",
     "output_type": "stream",
     "text": [
      "4:Orography:m (instant):lambert:surface:level 0:fcst time 0 hrs:from 201303161200\n",
      "(428, 614) -73.929977417 3576.32002258\n",
      "(428, 614) 12.19 61.3308781516 (428, 614) -152.895529498 -49.3446368347\n"
     ]
    }
   ],
   "source": [
    "import pygrib\n",
    "grbs = pygrib.open('namanl_218_20130316_1200_000.grb') #path in my system\n",
    "grb = grbs.message(4)\n",
    "print(grb)\n",
    "Z = grb.values  # extract the data values using the 'values' key\n",
    "print(Z.shape, Z.min(), Z.max())\n",
    "lats, lons = grb.latlons()   # get latitudes and longitudes grid:\n",
    "print(lats.shape, lats.min(), lats.max(), lons.shape, lons.min(), lons.max())"
   ]
  },
  {
   "cell_type": "code",
   "execution_count": 7,
   "metadata": {
    "scrolled": true
   },
   "outputs": [
    {
     "name": "stdout",
     "output_type": "stream",
     "text": [
      "1 Mean sea level pressure 0\n",
      "2 Surface pressure 0\n",
      "3 Orography 0\n",
      "4 Temperature 0\n",
      "5 2 metre temperature 2\n",
      "6 2 metre dewpoint temperature 2\n",
      "7 Relative humidity 2\n",
      "8 10 metre U wind component 10\n",
      "9 10 metre V wind component 10\n",
      "10 Total Precipitation 0\n",
      "11 Convective precipitation (water) 0\n",
      "12 Vertical velocity 50\n",
      "13 Vertical velocity 75\n",
      "14 Vertical velocity 100\n",
      "15 Vertical velocity 125\n",
      "16 Vertical velocity 150\n",
      "17 Vertical velocity 175\n",
      "18 Vertical velocity 200\n",
      "19 Vertical velocity 225\n",
      "20 Vertical velocity 250\n",
      "21 Absolute vorticity 250\n",
      "22 Vertical velocity 275\n",
      "23 Vertical velocity 300\n",
      "24 Vertical velocity 325\n",
      "25 Vertical velocity 350\n",
      "26 Vertical velocity 375\n",
      "27 Vertical velocity 400\n",
      "28 Vertical velocity 425\n",
      "29 Vertical velocity 450\n",
      "30 Vertical velocity 475\n",
      "31 Vertical velocity 500\n",
      "32 Absolute vorticity 500\n",
      "33 Vertical velocity 525\n",
      "34 Vertical velocity 550\n",
      "35 Vertical velocity 575\n"
     ]
    }
   ],
   "source": [
    "#print inventory\n",
    "k=1\n",
    "for g in grbs:\n",
    "    print(k, g.name, g.level)\n",
    "    k=k+1"
   ]
  },
  {
   "cell_type": "code",
   "execution_count": 9,
   "metadata": {},
   "outputs": [
    {
     "name": "stdout",
     "output_type": "stream",
     "text": [
      "5:Temperature:K (instant):lambert:surface:level 0:fcst time 0 hrs:from 201303161200\n"
     ]
    }
   ],
   "source": [
    "msg = grbs[5]\n",
    "print( msg)\n",
    "vals = msg.values\n",
    "vals.shape\n",
    "lats,lons = msg.latlons()"
   ]
  },
  {
   "cell_type": "code",
   "execution_count": 21,
   "metadata": {},
   "outputs": [
    {
     "ename": "AttributeError",
     "evalue": "'numpy.ndarray' object has no attribute 'dtypes'",
     "output_type": "error",
     "traceback": [
      "\u001b[0;31m---------------------------------------------------------------------------\u001b[0m",
      "\u001b[0;31mAttributeError\u001b[0m                            Traceback (most recent call last)",
      "\u001b[0;32m<ipython-input-21-1ccddcdc365a>\u001b[0m in \u001b[0;36m<module>\u001b[0;34m()\u001b[0m\n\u001b[0;32m----> 1\u001b[0;31m \u001b[0mlats\u001b[0m\u001b[0;34m.\u001b[0m\u001b[0mdtypes\u001b[0m\u001b[0;34m\u001b[0m\u001b[0m\n\u001b[0m",
      "\u001b[0;31mAttributeError\u001b[0m: 'numpy.ndarray' object has no attribute 'dtypes'"
     ]
    }
   ],
   "source": [
    "lats.dtypes"
   ]
  },
  {
   "cell_type": "code",
   "execution_count": 36,
   "metadata": {},
   "outputs": [],
   "source": [
    "import pandas as pd\n",
    "lat = pd.DataFrame(lats)\n",
    "lon = pd.DataFrame(lons)\n",
    "tem = pd.DataFrame(vals)\n",
    "\n",
    "namlat = pd.DataFrame(lat)\n",
    "namlon = pd.DataFrame(lon)\n",
    "namtemp = pd.DataFrame(tem)\n",
    "namlat.to_pickle('namlat.pk')\n",
    "namlon.to_pickle('namlon.pk')\n",
    "namtemp.to_pickle('namtemp.pk')\n"
   ]
  },
  {
   "cell_type": "code",
   "execution_count": 14,
   "metadata": {
    "scrolled": false
   },
   "outputs": [
    {
     "ename": "ModuleNotFoundError",
     "evalue": "No module named 'mpl_toolkits.basemap'",
     "output_type": "error",
     "traceback": [
      "\u001b[0;31m---------------------------------------------------------------------------\u001b[0m",
      "\u001b[0;31mModuleNotFoundError\u001b[0m                       Traceback (most recent call last)",
      "\u001b[0;32m<ipython-input-14-c9188b9275e0>\u001b[0m in \u001b[0;36m<module>\u001b[0;34m()\u001b[0m\n\u001b[1;32m      2\u001b[0m \u001b[0;32mimport\u001b[0m \u001b[0mmatplotlib\u001b[0m\u001b[0;34m.\u001b[0m\u001b[0mpyplot\u001b[0m \u001b[0;32mas\u001b[0m \u001b[0mplt\u001b[0m\u001b[0;34m\u001b[0m\u001b[0m\n\u001b[1;32m      3\u001b[0m \u001b[0;32mfrom\u001b[0m \u001b[0mmatplotlib\u001b[0m\u001b[0;34m.\u001b[0m\u001b[0mcm\u001b[0m \u001b[0;32mimport\u001b[0m \u001b[0mget_cmap\u001b[0m\u001b[0;34m\u001b[0m\u001b[0m\n\u001b[0;32m----> 4\u001b[0;31m \u001b[0;32mfrom\u001b[0m \u001b[0mmpl_toolkits\u001b[0m\u001b[0;34m.\u001b[0m\u001b[0mbasemap\u001b[0m \u001b[0;32mimport\u001b[0m \u001b[0mBasemap\u001b[0m\u001b[0;34m\u001b[0m\u001b[0m\n\u001b[0m\u001b[1;32m      5\u001b[0m \u001b[0;34m\u001b[0m\u001b[0m\n\u001b[1;32m      6\u001b[0m \u001b[0mbm\u001b[0m \u001b[0;34m=\u001b[0m \u001b[0mBasemap\u001b[0m\u001b[0;34m(\u001b[0m\u001b[0mwidth\u001b[0m\u001b[0;34m=\u001b[0m\u001b[0;36m9000000\u001b[0m\u001b[0;34m,\u001b[0m\u001b[0mheight\u001b[0m\u001b[0;34m=\u001b[0m\u001b[0;36m7500000\u001b[0m\u001b[0;34m,\u001b[0m            \u001b[0mresolution\u001b[0m\u001b[0;34m=\u001b[0m\u001b[0;34m'l'\u001b[0m\u001b[0;34m,\u001b[0m\u001b[0marea_thresh\u001b[0m\u001b[0;34m=\u001b[0m\u001b[0;36m1000.\u001b[0m\u001b[0;34m,\u001b[0m\u001b[0mprojection\u001b[0m\u001b[0;34m=\u001b[0m\u001b[0;34m'lcc'\u001b[0m\u001b[0;34m,\u001b[0m            \u001b[0mlat_1\u001b[0m\u001b[0;34m=\u001b[0m\u001b[0;36m35\u001b[0m\u001b[0;34m,\u001b[0m\u001b[0mlat_2\u001b[0m\u001b[0;34m=\u001b[0m\u001b[0;36m45\u001b[0m\u001b[0;34m,\u001b[0m\u001b[0mlat_0\u001b[0m\u001b[0;34m=\u001b[0m\u001b[0;36m40\u001b[0m\u001b[0;34m,\u001b[0m\u001b[0mlon_0\u001b[0m\u001b[0;34m=\u001b[0m\u001b[0;34m-\u001b[0m\u001b[0;36m100\u001b[0m\u001b[0;34m)\u001b[0m\u001b[0;34m\u001b[0m\u001b[0m\n",
      "\u001b[0;31mModuleNotFoundError\u001b[0m: No module named 'mpl_toolkits.basemap'"
     ]
    }
   ],
   "source": [
    "from netCDF4 import Dataset\n",
    "import matplotlib.pyplot as plt\n",
    "from matplotlib.cm import get_cmap\n",
    "from mpl_toolkits.basemap import Basemap\n",
    "\n",
    "bm = Basemap(width=9000000,height=7500000,\\\n",
    "            resolution='l',area_thresh=1000.,projection='lcc',\\\n",
    "            lat_1=35,lat_2=45,lat_0=40,lon_0=-100)\n",
    "\n",
    "# convert the lat/lon values to x/y projections.\n",
    "#x, y = bm(*np.meshgrid(lons,lats))\n",
    "x, y = bm(lons, lats)\n",
    "\n",
    "# Create a figure\n",
    "fig = plt.figure(figsize=(12,9))\n",
    "\n",
    "# Add geographic outlines\n",
    "bm.drawcoastlines(linewidth=0.25)\n",
    "bm.drawstates(linewidth=0.25)\n",
    "bm.drawcountries(linewidth=0.25)\n",
    "\n",
    "bm.fillcontinents(color='coral',lake_color='aqua')\n",
    "# draw parallels and meridians.\n",
    "bm.drawparallels(np.arange(-0.,90.,15.))\n",
    "bm.drawmeridians(np.arange(-180.,181.,15.))\n",
    "bm.drawmapboundary(fill_color='aqua')\n",
    "\n",
    "# Draw the contours and filled contours\n",
    "#bm.contour(x, y, vals, 10, colors=\"black\")\n",
    "bm.contourf(x, y, vals, 10, cmap=get_cmap(\"jet\"))\n",
    "\n",
    "# Add a color bar\n",
    "plt.colorbar(shrink=.9)    #shrink=.9\n",
    "\n",
    "plt.title(\"NAM Pressure\")\n",
    "#plt.savefig('Terrain1m_geogrid.png')\n",
    "plt.show()"
   ]
  },
  {
   "cell_type": "markdown",
   "metadata": {},
   "source": [
    "https://wolfscie.wordpress.com/2017/10/05/visualizing-wrf-domain/\n",
    "https://github.com/lucas-uw/WRF-tools/blob/master/WRF_input_tools/Visualize_WPS_domain.ipynb "
   ]
  }
 ],
 "metadata": {
  "kernelspec": {
   "display_name": "Python 3",
   "language": "python",
   "name": "python3"
  },
  "language_info": {
   "codemirror_mode": {
    "name": "ipython",
    "version": 3
   },
   "file_extension": ".py",
   "mimetype": "text/x-python",
   "name": "python",
   "nbconvert_exporter": "python",
   "pygments_lexer": "ipython3",
   "version": "3.6.4"
  }
 },
 "nbformat": 4,
 "nbformat_minor": 2
}
