{
 "cells": [
  {
   "cell_type": "code",
   "execution_count": 1,
   "metadata": {},
   "outputs": [],
   "source": [
    "#   SODAR     LON 103.77  LAT 19.28,                      LON 103.77  LAT 19.28,\n",
    "# uv[0,20,56] =  -103.767  ,  19.3712       # uv[0,20,57] =  -103.681  ,  19.2907\n",
    "# uv[0,20,56] =  -103.767  ,  19.2903*      # uv[0,20,56] =  -103.767  ,  19.2903*\n",
    "# uv[0,20,55] =  -103.853  ,  19.2899*      # uv[0,18,56] =  -103.766  ,  19.1286 \n",
    "# uv[0,19,56] =  -103.767  ,  19.2095*      # uv[0,20,55] =  -103.853  ,  19.2899* \n",
    "# uv[0,19,55] =  -103.852  ,  19.209 *      # uv[0,20,54] =  -103.938  ,  19.2894\n",
    "# ds083 GFS NAM\n",
    "# p1s1 p2s2 p7s7"
   ]
  },
  {
   "cell_type": "code",
   "execution_count": 2,
   "metadata": {},
   "outputs": [],
   "source": [
    "from netCDF4 import Dataset\n",
    "import numpy as np\n",
    "import pandas as pd\n",
    "import matplotlib.pyplot as plt\n",
    "import wrf \n",
    "from wrf import getvar, vinterp, ALL_TIMES, destagger, to_np, interplevel"
   ]
  },
  {
   "cell_type": "code",
   "execution_count": 3,
   "metadata": {},
   "outputs": [
    {
     "name": "stdout",
     "output_type": "stream",
     "text": [
      "145 2012-08-16 12:00:00 2012-08-19 12:00:00\n"
     ]
    }
   ],
   "source": [
    "## f = '/mnt/sda2/exp6_llj/d03/20120816_d03_nam32_p1r1.nc'\n",
    "f = '/../../../d03/20120816_d03_nam32_p1r1.nc'\n",
    "ncfile = Dataset(f)\n",
    "wrftime = getvar(ncfile, \"times\", timeidx=ALL_TIMES)\n",
    "utc2loc = np.timedelta64(6,'h')\n",
    "wrftime10m = pd.to_datetime(wrftime.values)-utc2loc\n",
    "wrftimeh = pd.to_datetime(wrftime[::3].values)-utc2loc\n",
    "timelabel = wrftimeh\n",
    "date1, date2 = wrftimeh[0], wrftimeh[wrftimeh.size-1]\n",
    "print(wrftimeh.size, date1, date2)"
   ]
  },
  {
   "cell_type": "code",
   "execution_count": 4,
   "metadata": {},
   "outputs": [
    {
     "data": {
      "text/html": [
       "<pre>&lt;xarray.DataArray &#x27;tv&#x27; ()&gt;\n",
       "array(33.12079, dtype=float32)\n",
       "Coordinates:\n",
       "    XLONG    float32 -103.77844\n",
       "    XLAT     float32 19.280983\n",
       "    XTIME    float32 0.0\n",
       "    Time     datetime64[ns] 2012-08-16T18:00:00\n",
       "Attributes:\n",
       "    FieldType:      104\n",
       "    MemoryOrder:    XYZ\n",
       "    description:    virtual temperature\n",
       "    units:          degC\n",
       "    stagger:        \n",
       "    coordinates:    XLONG XLAT XTIME\n",
       "    projection:     LambertConformal(stand_lon=-101.25, moad_cen_lat=21.50001...\n",
       "    _FillValue:     1e+20\n",
       "    missing_value:  1e+20</pre>"
      ],
      "text/plain": [
       "<xarray.DataArray 'tv' ()>\n",
       "array(33.12079, dtype=float32)\n",
       "Coordinates:\n",
       "    XLONG    float32 -103.77844\n",
       "    XLAT     float32 19.280983\n",
       "    XTIME    float32 0.0\n",
       "    Time     datetime64[ns] 2012-08-16T18:00:00\n",
       "Attributes:\n",
       "    FieldType:      104\n",
       "    MemoryOrder:    XYZ\n",
       "    description:    virtual temperature\n",
       "    units:          degC\n",
       "    stagger:        \n",
       "    coordinates:    XLONG XLAT XTIME\n",
       "    projection:     LambertConformal(stand_lon=-101.25, moad_cen_lat=21.50001...\n",
       "    _FillValue:     1e+20\n",
       "    missing_value:  1e+20"
      ]
     },
     "execution_count": 4,
     "metadata": {},
     "output_type": "execute_result"
    }
   ],
   "source": [
    "tv0 = getvar(ncfile, \"tv\", units=\"degC\", timeidx=0)\n",
    "tv0[2,24,20]\n"
   ]
  },
  {
   "cell_type": "code",
   "execution_count": 5,
   "metadata": {},
   "outputs": [
    {
     "name": "stdout",
     "output_type": "stream",
     "text": [
      "20120816_d03_gfs05_p1r1 g1r1\n"
     ]
    }
   ],
   "source": [
    "#uv['Time'] = uv['Time'] - utc2loc\n",
    "##  /mnt/sda2/exp6_llj/d03/\n",
    "\n",
    "expruns = ['20120816_d03_gfs05_p1r1', '20120816_d03_gfs05_p1r3','20120816_d03_gfs05_p1r5',\n",
    "           '20120816_d03_gfs05_p2r1', '20120816_d03_gfs05_p2r3','20120816_d03_gfs05_p2r5',\n",
    "           '20120816_d03_nam32_p1r1', '20120816_d03_nam32_p1r3','20120816_d03_nam32_p1r5',\n",
    "           '20120816_d03_nam32_p2r1', '20120816_d03_nam32_p2r3','20120816_d03_nam32_p2r5']\n",
    "expnames = ['g1r1', 'g1r3', 'g1r5', 'g2r1', 'g2r3', 'g2r5', \n",
    "            'n1r1', 'n1r3', 'n1r5', 'n2r1', 'n2r3', 'n2r5']\n",
    "print(expruns[0], expnames[0])"
   ]
  },
  {
   "cell_type": "code",
   "execution_count": 6,
   "metadata": {},
   "outputs": [
    {
     "ename": "KeyboardInterrupt",
     "evalue": "",
     "output_type": "error",
     "traceback": [
      "\u001b[1;31m---------------------------------------------------------------------------\u001b[0m",
      "\u001b[1;31mKeyboardInterrupt\u001b[0m                         Traceback (most recent call last)",
      "\u001b[1;32m<ipython-input-6-df2f51b6d248>\u001b[0m in \u001b[0;36m<module>\u001b[1;34m\u001b[0m\n\u001b[0;32m     14\u001b[0m     \u001b[0mncfile\u001b[0m \u001b[1;33m=\u001b[0m \u001b[0mDataset\u001b[0m\u001b[1;33m(\u001b[0m\u001b[0mf\u001b[0m\u001b[1;33m)\u001b[0m\u001b[1;33m\u001b[0m\u001b[1;33m\u001b[0m\u001b[0m\n\u001b[0;32m     15\u001b[0m \u001b[1;33m\u001b[0m\u001b[0m\n\u001b[1;32m---> 16\u001b[1;33m     \u001b[0muv\u001b[0m\u001b[1;33m,\u001b[0m \u001b[0mwdir\u001b[0m \u001b[1;33m=\u001b[0m \u001b[0mgetvar\u001b[0m\u001b[1;33m(\u001b[0m\u001b[0mncfile\u001b[0m\u001b[1;33m,\u001b[0m \u001b[1;34m\"uvmet_wspd_wdir\"\u001b[0m\u001b[1;33m,\u001b[0m \u001b[0munits\u001b[0m\u001b[1;33m=\u001b[0m\u001b[1;34m\"m s-1\"\u001b[0m\u001b[1;33m,\u001b[0m \u001b[0mtimeidx\u001b[0m\u001b[1;33m=\u001b[0m\u001b[0mALL_TIMES\u001b[0m\u001b[1;33m)\u001b[0m\u001b[1;33m\u001b[0m\u001b[1;33m\u001b[0m\u001b[0m\n\u001b[0m\u001b[0;32m     17\u001b[0m     \u001b[0mtmpv\u001b[0m \u001b[1;33m=\u001b[0m \u001b[0mgetvar\u001b[0m\u001b[1;33m(\u001b[0m\u001b[0mncfile\u001b[0m\u001b[1;33m,\u001b[0m \u001b[1;34m\"tv\"\u001b[0m\u001b[1;33m,\u001b[0m \u001b[0munits\u001b[0m\u001b[1;33m=\u001b[0m\u001b[1;34m\"degC\"\u001b[0m\u001b[1;33m,\u001b[0m \u001b[0mtimeidx\u001b[0m\u001b[1;33m=\u001b[0m\u001b[0mALL_TIMES\u001b[0m\u001b[1;33m)\u001b[0m\u001b[1;33m\u001b[0m\u001b[1;33m\u001b[0m\u001b[0m\n\u001b[0;32m     18\u001b[0m \u001b[1;33m\u001b[0m\u001b[0m\n",
      "\u001b[1;32m~\\Anaconda3\\lib\\site-packages\\wrf\\routines.py\u001b[0m in \u001b[0;36mgetvar\u001b[1;34m(wrfin, varname, timeidx, method, squeeze, cache, meta, **kwargs)\u001b[0m\n\u001b[0;32m    353\u001b[0m \u001b[1;33m\u001b[0m\u001b[0m\n\u001b[0;32m    354\u001b[0m     return _FUNC_MAP[actual_var](wrfin, timeidx, method, squeeze, cache,\n\u001b[1;32m--> 355\u001b[1;33m                                  meta, _key, **kwargs)\n\u001b[0m",
      "\u001b[1;32m~\\Anaconda3\\lib\\site-packages\\wrf\\metadecorators.py\u001b[0m in \u001b[0;36mfunc_wrapper\u001b[1;34m(wrapped, instance, args, kwargs)\u001b[0m\n\u001b[0;32m    270\u001b[0m         \u001b[0mnew_args\u001b[0m\u001b[1;33m[\u001b[0m\u001b[0mcache_argloc\u001b[0m\u001b[1;33m]\u001b[0m \u001b[1;33m=\u001b[0m \u001b[0mnew_cache\u001b[0m\u001b[1;33m\u001b[0m\u001b[1;33m\u001b[0m\u001b[0m\n\u001b[0;32m    271\u001b[0m \u001b[1;33m\u001b[0m\u001b[0m\n\u001b[1;32m--> 272\u001b[1;33m         \u001b[0mresult\u001b[0m \u001b[1;33m=\u001b[0m \u001b[0mwrapped\u001b[0m\u001b[1;33m(\u001b[0m\u001b[1;33m*\u001b[0m\u001b[0mnew_args\u001b[0m\u001b[1;33m)\u001b[0m\u001b[1;33m\u001b[0m\u001b[1;33m\u001b[0m\u001b[0m\n\u001b[0m\u001b[0;32m    273\u001b[0m \u001b[1;33m\u001b[0m\u001b[0m\n\u001b[0;32m    274\u001b[0m         \u001b[0moutcoords\u001b[0m \u001b[1;33m=\u001b[0m \u001b[0mOrderedDict\u001b[0m\u001b[1;33m(\u001b[0m\u001b[1;33m)\u001b[0m\u001b[1;33m\u001b[0m\u001b[1;33m\u001b[0m\u001b[0m\n",
      "\u001b[1;32m~\\Anaconda3\\lib\\site-packages\\wrf\\g_uvmet.py\u001b[0m in \u001b[0;36mget_uvmet_wspd_wdir\u001b[1;34m(wrfin, timeidx, method, squeeze, cache, meta, _key, units)\u001b[0m\n\u001b[0;32m    435\u001b[0m \u001b[1;33m\u001b[0m\u001b[0m\n\u001b[0;32m    436\u001b[0m     return _calc_wspd_wdir(uvmet[0, ..., :, :, :], uvmet[1, ..., :, :, :],\n\u001b[1;32m--> 437\u001b[1;33m                            False, units)\n\u001b[0m\u001b[0;32m    438\u001b[0m \u001b[1;33m\u001b[0m\u001b[0m\n\u001b[0;32m    439\u001b[0m \u001b[1;33m\u001b[0m\u001b[0m\n",
      "\u001b[1;32m~\\Anaconda3\\lib\\site-packages\\wrf\\g_wind.py\u001b[0m in \u001b[0;36m_calc_wspd_wdir\u001b[1;34m(u, v, two_d, units)\u001b[0m\n\u001b[0;32m     80\u001b[0m \u001b[1;33m\u001b[0m\u001b[0m\n\u001b[0;32m     81\u001b[0m     \u001b[0mwspd\u001b[0m \u001b[1;33m=\u001b[0m \u001b[0m_calc_wspd\u001b[0m\u001b[1;33m(\u001b[0m\u001b[0mu\u001b[0m\u001b[1;33m,\u001b[0m \u001b[0mv\u001b[0m\u001b[1;33m,\u001b[0m \u001b[0munits\u001b[0m\u001b[1;33m)\u001b[0m\u001b[1;33m\u001b[0m\u001b[1;33m\u001b[0m\u001b[0m\n\u001b[1;32m---> 82\u001b[1;33m     \u001b[0mwdir\u001b[0m \u001b[1;33m=\u001b[0m \u001b[0m_calc_wdir\u001b[0m\u001b[1;33m(\u001b[0m\u001b[0mu\u001b[0m\u001b[1;33m,\u001b[0m \u001b[0mv\u001b[0m\u001b[1;33m)\u001b[0m\u001b[1;33m\u001b[0m\u001b[1;33m\u001b[0m\u001b[0m\n\u001b[0m\u001b[0;32m     83\u001b[0m \u001b[1;33m\u001b[0m\u001b[0m\n\u001b[0;32m     84\u001b[0m     \u001b[1;32mtry\u001b[0m\u001b[1;33m:\u001b[0m\u001b[1;33m\u001b[0m\u001b[1;33m\u001b[0m\u001b[0m\n",
      "\u001b[1;32m~\\Anaconda3\\lib\\site-packages\\wrf\\g_wind.py\u001b[0m in \u001b[0;36m_calc_wdir\u001b[1;34m(u, v)\u001b[0m\n\u001b[0;32m     46\u001b[0m \u001b[1;33m\u001b[0m\u001b[0m\n\u001b[0;32m     47\u001b[0m     \"\"\"\n\u001b[1;32m---> 48\u001b[1;33m     \u001b[1;32mreturn\u001b[0m \u001b[0m_wdir\u001b[0m\u001b[1;33m(\u001b[0m\u001b[0mu\u001b[0m\u001b[1;33m,\u001b[0m \u001b[0mv\u001b[0m\u001b[1;33m)\u001b[0m\u001b[1;33m\u001b[0m\u001b[1;33m\u001b[0m\u001b[0m\n\u001b[0m\u001b[0;32m     49\u001b[0m \u001b[1;33m\u001b[0m\u001b[0m\n\u001b[0;32m     50\u001b[0m \u001b[1;33m\u001b[0m\u001b[0m\n",
      "\u001b[1;32m~\\Anaconda3\\lib\\site-packages\\wrf\\decorators.py\u001b[0m in \u001b[0;36mfunc_wrapper\u001b[1;34m(wrapped, instance, args, kwargs)\u001b[0m\n\u001b[0;32m    509\u001b[0m                                      ref_right_sizes[-right_var_ndims:]))\n\u001b[0;32m    510\u001b[0m \u001b[1;33m\u001b[0m\u001b[0m\n\u001b[1;32m--> 511\u001b[1;33m         \u001b[1;32mreturn\u001b[0m \u001b[0mwrapped\u001b[0m\u001b[1;33m(\u001b[0m\u001b[1;33m*\u001b[0m\u001b[0margs\u001b[0m\u001b[1;33m,\u001b[0m \u001b[1;33m**\u001b[0m\u001b[0mkwargs\u001b[0m\u001b[1;33m)\u001b[0m\u001b[1;33m\u001b[0m\u001b[1;33m\u001b[0m\u001b[0m\n\u001b[0m\u001b[0;32m    512\u001b[0m \u001b[1;33m\u001b[0m\u001b[0m\n\u001b[0;32m    513\u001b[0m     \u001b[1;32mreturn\u001b[0m \u001b[0mfunc_wrapper\u001b[0m\u001b[1;33m\u001b[0m\u001b[1;33m\u001b[0m\u001b[0m\n",
      "\u001b[1;32m~\\Anaconda3\\lib\\site-packages\\wrf\\decorators.py\u001b[0m in \u001b[0;36mfunc_wrapper\u001b[1;34m(wrapped, instance, args, kwargs)\u001b[0m\n\u001b[0;32m    204\u001b[0m                     \u001b[0mnew_kargs\u001b[0m\u001b[1;33m[\u001b[0m\u001b[0moutkey\u001b[0m\u001b[1;33m]\u001b[0m \u001b[1;33m=\u001b[0m \u001b[0moutview\u001b[0m\u001b[1;33m\u001b[0m\u001b[1;33m\u001b[0m\u001b[0m\n\u001b[0;32m    205\u001b[0m \u001b[1;33m\u001b[0m\u001b[0m\n\u001b[1;32m--> 206\u001b[1;33m             \u001b[0mresult\u001b[0m \u001b[1;33m=\u001b[0m \u001b[0mwrapped\u001b[0m\u001b[1;33m(\u001b[0m\u001b[1;33m*\u001b[0m\u001b[0mnew_args\u001b[0m\u001b[1;33m,\u001b[0m \u001b[1;33m**\u001b[0m\u001b[0mnew_kargs\u001b[0m\u001b[1;33m)\u001b[0m\u001b[1;33m\u001b[0m\u001b[1;33m\u001b[0m\u001b[0m\n\u001b[0m\u001b[0;32m    207\u001b[0m \u001b[1;33m\u001b[0m\u001b[0m\n\u001b[0;32m    208\u001b[0m             \u001b[1;31m# Make sure the result is the same data as what got passed in\u001b[0m\u001b[1;33m\u001b[0m\u001b[1;33m\u001b[0m\u001b[1;33m\u001b[0m\u001b[0m\n",
      "\u001b[1;32m~\\Anaconda3\\lib\\site-packages\\wrf\\decorators.py\u001b[0m in \u001b[0;36mfunc_wrapper\u001b[1;34m(wrapped, instance, args, kwargs)\u001b[0m\n\u001b[0;32m    297\u001b[0m                      for key, val in viewitems(kwargs)}\n\u001b[0;32m    298\u001b[0m \u001b[1;33m\u001b[0m\u001b[0m\n\u001b[1;32m--> 299\u001b[1;33m         \u001b[0mresult\u001b[0m \u001b[1;33m=\u001b[0m \u001b[0mwrapped\u001b[0m\u001b[1;33m(\u001b[0m\u001b[1;33m*\u001b[0m\u001b[0mnew_args\u001b[0m\u001b[1;33m,\u001b[0m \u001b[1;33m**\u001b[0m\u001b[0mnew_kargs\u001b[0m\u001b[1;33m)\u001b[0m\u001b[1;33m\u001b[0m\u001b[1;33m\u001b[0m\u001b[0m\n\u001b[0m\u001b[0;32m    300\u001b[0m \u001b[1;33m\u001b[0m\u001b[0m\n\u001b[0;32m    301\u001b[0m         \u001b[1;31m# Do nothing for supplied output views\u001b[0m\u001b[1;33m\u001b[0m\u001b[1;33m\u001b[0m\u001b[1;33m\u001b[0m\u001b[0m\n",
      "\u001b[1;32m~\\Anaconda3\\lib\\site-packages\\wrf\\decorators.py\u001b[0m in \u001b[0;36mfunc_wrapper\u001b[1;34m(wrapped, instance, args, kwargs)\u001b[0m\n\u001b[0;32m    390\u001b[0m                      for key, val in viewitems(kwargs)}\n\u001b[0;32m    391\u001b[0m \u001b[1;33m\u001b[0m\u001b[0m\n\u001b[1;32m--> 392\u001b[1;33m         \u001b[0mresult\u001b[0m \u001b[1;33m=\u001b[0m \u001b[0mwrapped\u001b[0m\u001b[1;33m(\u001b[0m\u001b[1;33m*\u001b[0m\u001b[0mnew_args\u001b[0m\u001b[1;33m,\u001b[0m \u001b[1;33m**\u001b[0m\u001b[0mnew_kargs\u001b[0m\u001b[1;33m)\u001b[0m\u001b[1;33m\u001b[0m\u001b[1;33m\u001b[0m\u001b[0m\n\u001b[0m\u001b[0;32m    393\u001b[0m \u001b[1;33m\u001b[0m\u001b[0m\n\u001b[0;32m    394\u001b[0m         \u001b[1;31m# Do nothing for supplied output views\u001b[0m\u001b[1;33m\u001b[0m\u001b[1;33m\u001b[0m\u001b[1;33m\u001b[0m\u001b[0m\n",
      "\u001b[1;32m~\\Anaconda3\\lib\\site-packages\\wrf\\extension.py\u001b[0m in \u001b[0;36m_wdir\u001b[1;34m(u, v, outview)\u001b[0m\n\u001b[0;32m    979\u001b[0m     result = dcomputewdir(outview.ravel(order=\"A\"),\n\u001b[0;32m    980\u001b[0m                           \u001b[0mu\u001b[0m\u001b[1;33m.\u001b[0m\u001b[0mravel\u001b[0m\u001b[1;33m(\u001b[0m\u001b[0morder\u001b[0m\u001b[1;33m=\u001b[0m\u001b[1;34m\"A\"\u001b[0m\u001b[1;33m)\u001b[0m\u001b[1;33m,\u001b[0m\u001b[1;33m\u001b[0m\u001b[1;33m\u001b[0m\u001b[0m\n\u001b[1;32m--> 981\u001b[1;33m                           v.ravel(order=\"A\"))\n\u001b[0m\u001b[0;32m    982\u001b[0m \u001b[1;33m\u001b[0m\u001b[0m\n\u001b[0;32m    983\u001b[0m     \u001b[0mresult\u001b[0m \u001b[1;33m=\u001b[0m \u001b[0mnp\u001b[0m\u001b[1;33m.\u001b[0m\u001b[0mreshape\u001b[0m\u001b[1;33m(\u001b[0m\u001b[0mresult\u001b[0m\u001b[1;33m,\u001b[0m \u001b[0mshape\u001b[0m\u001b[1;33m,\u001b[0m \u001b[0morder\u001b[0m\u001b[1;33m=\u001b[0m\u001b[1;34m\"F\"\u001b[0m\u001b[1;33m)\u001b[0m\u001b[1;33m\u001b[0m\u001b[1;33m\u001b[0m\u001b[0m\n",
      "\u001b[1;31mKeyboardInterrupt\u001b[0m: "
     ]
    }
   ],
   "source": [
    "######   WRF TIME AVERAGE 30min at SODAR  #######\n",
    "# (UV DIR, times, level, lat, lon) [0,:,:,20,56]\n",
    "# SODAR   LAT 19.28, LON 103.77\n",
    "k=0\n",
    "lat, lon = 24, 20\n",
    "int_levs = [.030, .040, .050, .100, .150, .200, .250, .300, .350, .400, .450, .500]\n",
    "lats, lons = [lat-1, lat, lat+1], [lon-1, lon, lon+1]\n",
    "sn, we = 'south_north', 'west_east'\n",
    "\n",
    "for exprun in expruns:\n",
    "    #exprun = '20120816_ds083_p1s1'\n",
    "    #f= '/mnt/sda2/exp6_llj/d03/'+exprun+'.nc'\n",
    "    f = '/../../../d03/'+exprun+'.nc'\n",
    "    ncfile = Dataset(f)\n",
    "\n",
    "    uv, wdir = getvar(ncfile, \"uvmet_wspd_wdir\", units=\"m s-1\", timeidx=ALL_TIMES)\n",
    "    tmpv = getvar(ncfile, \"tv\", units=\"degC\", timeidx=ALL_TIMES)\n",
    "\n",
    "    wind_ds = vinterp(ncfile, field=uv, vert_coord='ght_agl', interp_levels=int_levs, timeidx=ALL_TIMES, field_type='z')\n",
    "    seriesw = wind_ds[:,:,lats,lons].mean(dim=[sn,we]).resample(Time='30min').mean(dim='Time')\n",
    "    seriesw['Time'] = seriesw['Time'] - utc2loc\n",
    "\n",
    "    wdir_ds = vinterp(ncfile, field=wdir, vert_coord='ght_agl', interp_levels=int_levs, timeidx=ALL_TIMES) \n",
    "    seriesd = wdir_ds[:,:,lats,lons].mean(dim=[sn,we]).resample(Time='30min').mean(dim='Time')\n",
    "    seriesd['Time'] = seriesd['Time'] - utc2loc\n",
    "\n",
    "    tmpv_ds = vinterp(ncfile, field=tmpv, vert_coord='ght_agl', interp_levels=int_levs, timeidx=ALL_TIMES) \n",
    "    seriest = tmpv_ds[:,:,lats,lons].mean(dim=[sn,we]).resample(Time='30min').mean(dim='Time')\n",
    "    seriest['Time'] = seriest['Time'] - utc2loc\n",
    "\n",
    "    ds1 = seriesw.to_dataset(name='uv30')\n",
    "    ds2 = seriesd.to_dataset(name='wd30')\n",
    "    ds3 = seriest.to_dataset(name='tv30')\n",
    "\n",
    "    ds3.combine_first(ds2.combine_first(ds1)).to_netcdf('interp30/sodar_'+str(expnames[k])+'.nc')\n",
    "    \n",
    "    print('done '+str(k)+' '+exprun)\n",
    "    k=k+1\n"
   ]
  },
  {
   "cell_type": "code",
   "execution_count": null,
   "metadata": {},
   "outputs": [],
   "source": [
    "######   WRF TIME AVERAGE 30m   #######\n",
    "utc2loc = np.timedelta64(6,'h')\n",
    "k=0\n",
    "ztop=12\n",
    "for exprun in expruns:\n",
    "    #f= '../../../d03/'+exprun+'.nc'\n",
    "    f = '/../../../d03/'+exprun+'.nc'\n",
    "    ncfile = Dataset(f)\n",
    "\n",
    "    ua = getvar(ncfile, \"ua\", units=\"ms-1\", timeidx=ALL_TIMES)[:,:ztop,:,:]\n",
    "    va = getvar(ncfile, \"va\", units=\"ms-1\", timeidx=ALL_TIMES)[:,:ztop,:,:]\n",
    "    wa = getvar(ncfile, \"wa\", units=\"ms-1\", timeidx=ALL_TIMES)[:,:ztop,:,:]\n",
    "    tv = getvar(ncfile, \"tv\", units=\"degC\", timeidx=ALL_TIMES)[:,:ztop,:,:]\n",
    "    z = getvar(ncfile, \"z\", units=\"m\", timeidx=ALL_TIMES)[:,:ztop,:,:]\n",
    "    p = getvar(ncfile, \"p\", units=\"hPa\", timeidx=ALL_TIMES)[:,:ztop,:,:]\n",
    "    \n",
    "    ua30 = ua.resample(Time='30min').mean(dim='Time')\n",
    "    ua30['Time'] = ua30['Time'] - utc2loc\n",
    "    va30 = va.resample(Time='30min').mean(dim='Time')\n",
    "    va30['Time'] = va30['Time'] - utc2loc\n",
    "    wa30 = wa.resample(Time='30min').mean(dim='Time')\n",
    "    wa30['Time'] = wa30['Time'] - utc2loc\n",
    "    \n",
    "    tv30 = tv.resample(Time='30min').mean(dim='Time')\n",
    "    tv30['Time'] = tv30['Time'] - utc2loc\n",
    "    z30 = z.resample(Time='30min').mean(dim='Time')\n",
    "    z30['Time'] = z30['Time'] - utc2loc\n",
    "    p30 = p.resample(Time='30min').mean(dim='Time')\n",
    "    p30['Time'] = p30['Time'] - utc2loc\n",
    "\n",
    "    ds1 = ua30.to_dataset(name='ua30')\n",
    "    ds2 = va30.to_dataset(name='va30')\n",
    "    ds3 = wa30.to_dataset(name='wa30')\n",
    "    ds4 = tv30.to_dataset(name='tv30')\n",
    "    ds5 = z30.to_dataset(name='z30')\n",
    "    ds6 = p30.to_dataset(name='p30')\n",
    "    dswrf = ds6.combine_first(ds5.combine_first(ds4.combine_first(ds3.combine_first(ds2.combine_first(ds1)))))\n",
    "    dswrf.to_netcdf('interp30/'+str(expnames[k])+'.nc')\n",
    "    print('done '+str(k)+' '+exprun)\n",
    "    k=k+1"
   ]
  },
  {
   "cell_type": "code",
   "execution_count": null,
   "metadata": {},
   "outputs": [],
   "source": [
    "# (UV DIR, times, level, lat, lon) [0,:,:,20,56]\n",
    "# SODAR   LAT 19.28, LON 103.77\n",
    "k=1\n",
    "\n",
    "for exprun in expruns:\n",
    "    #exprun = '20120816_ds083_p1s1'\n",
    "    f= '/mnt/sda2/exp6_llj/d03/'+exprun+'.nc'\n",
    "    ncfile = Dataset(f)\n",
    "\n",
    "    uv, wdir = getvar(ncfile, \"uvmet_wspd_wdir\", units=\"m s-1\", timeidx=ALL_TIMES)\n",
    "    tmpv = getvar(ncfile, \"tv\", units=\"degC\", timeidx=ALL_TIMES)\n",
    "\n",
    "    int_levs = [.030, .040, .050, .100, .150, .200, .250, .300, .350, .400, .450, .500]\n",
    "\n",
    "    wind_ds = vinterp(ncfile, field=uv, vert_coord='ght_agl', interp_levels=int_levs, timeidx=ALL_TIMES, field_type='z')\n",
    "    seriesw = wind_ds[:,:,[22,23],[18,19]].mean(dim=['south_north', 'west_east']).resample(Time='30min').mean(dim='Time')\n",
    "    seriesw['Time'] = seriesw['Time'] - utc2loc\n",
    "    seriesw.to_pandas().to_pickle('interp/wind_'+exprun+'.pk')\n",
    "\n",
    "    wdir_ds = vinterp(ncfile, field=wdir, vert_coord='ght_agl', interp_levels=int_levs, timeidx=ALL_TIMES) \n",
    "    seriesd = wdir_ds[:,:,[22,23],[18,19]].mean(dim=['south_north', 'west_east']).resample(Time='30min').mean(dim='Time')\n",
    "    seriesd['Time'] = seriesd['Time'] - utc2loc\n",
    "    seriesd.to_pandas().to_pickle('interp/wdir_'+exprun+'.pk')\n",
    "\n",
    "    tmpv_ds = vinterp(ncfile, field=tmpv, vert_coord='ght_agl', interp_levels=int_levs, timeidx=ALL_TIMES) \n",
    "    seriest = tmpv_ds[:,:,[22,23],[18,19]].mean(dim=['south_north', 'west_east']).resample(Time='30min').mean(dim='Time')\n",
    "    seriest['Time'] = seriest['Time'] - utc2loc\n",
    "    seriest.to_pandas().to_pickle('interp/tmpv_'+exprun+'.pk')\n",
    "    print('done '+str(k)+' '+exprun)\n",
    "    k=k+1\n"
   ]
  },
  {
   "cell_type": "code",
   "execution_count": null,
   "metadata": {},
   "outputs": [],
   "source": [
    " #LEV, LAT, LON      LAT 19.28,   LON 103.77  \n",
    "f = '/home/wrf/WPS/met_em.d01.2012-08-17_00:00:00.nc'\n",
    "ncfile = Dataset(f)\n",
    "uv = getvar(ncfile, \"uvmet_wspd_wdir\", units=\"m s-1\", timeidx=0)[0]\n",
    "wind = uv[0,22,22]\n",
    "print(uv.shape, wind.values, wind['XLAT_M'].values, wind['XLONG_M'].values)\n",
    "print('')\n",
    "Dataset.close\n",
    "f = '/home/wrf/WPS/met_em.d02.2012-08-17_00:00:00.nc'\n",
    "ncfile2 = Dataset(f)\n",
    "uv2 = getvar(ncfile2, \"uvmet_wspd_wdir\", units=\"m s-1\", timeidx=0)[0]\n",
    "wind2 = uv2[0,22,20]\n",
    "print(uv2.shape, wind2.values, wind2['XLAT_M'].values, wind2['XLONG_M'].values)\n",
    "Dataset.close\n",
    "print('')\n",
    "f = '/home/wrf/WPS/met_em.d03.2012-08-17_00:00:00.nc'\n",
    "ncfile3 = Dataset(f)\n",
    "uv3 = getvar(ncfile3, \"uvmet_wspd_wdir\", units=\"m s-1\", timeidx=0)[0]\n",
    "wind3 = uv3[0,24,19]\n",
    "print(uv3.shape, wind3.values, wind3['XLAT_M'].values, wind3['XLONG_M'].values)\n",
    "Dataset.close"
   ]
  },
  {
   "cell_type": "code",
   "execution_count": null,
   "metadata": {},
   "outputs": [],
   "source": [
    "uv[:15,20,:].plot.contourf()"
   ]
  },
  {
   "cell_type": "code",
   "execution_count": null,
   "metadata": {},
   "outputs": [],
   "source": [
    "tv = getvar(ncfile, \"tv\")\n",
    "tv[:15,20,:].plot.contourf()"
   ]
  },
  {
   "cell_type": "code",
   "execution_count": null,
   "metadata": {},
   "outputs": [],
   "source": [
    "#wrf.extract_vars(wrfin, timeidx, varnames\n",
    "p = getvar(ncfile, \"p\")\n",
    "p[:15,20,:].plot.contourf()"
   ]
  },
  {
   "cell_type": "code",
   "execution_count": null,
   "metadata": {},
   "outputs": [],
   "source": [
    "dd = pd.read_pickle('sodar_dd.pk')\n",
    "dd = dd.interpolate()\n",
    "sp = pd.read_pickle('sodar_sp.pk')\n",
    "sp = sp.interpolate()\n",
    "tv = pd.read_pickle('sodar_tv.pk')\n",
    "tv = tv.interpolate()"
   ]
  },
  {
   "cell_type": "code",
   "execution_count": null,
   "metadata": {},
   "outputs": [],
   "source": [
    "from wrf import to_np, getvar, CoordPair, vertcross\n",
    "f = '/mnt/sda2/exp5_llj/201303_nam218.p1s1.nc'\n",
    "ncfile = Dataset(exp+f)\n",
    "p = getvar(ncfile, \"pressure\", timeidx=0)\n",
    "lats = getvar(ncfile, \"lat\", timeidx=0)\n",
    "lons = getvar(ncfile, \"lon\", timeidx=0)\n",
    "print(lats.min(), lats.max())\n",
    "print(lons.min(), lons.max())"
   ]
  },
  {
   "cell_type": "code",
   "execution_count": null,
   "metadata": {},
   "outputs": [],
   "source": []
  }
 ],
 "metadata": {
  "kernelspec": {
   "display_name": "Python 3",
   "language": "python",
   "name": "python3"
  },
  "language_info": {
   "codemirror_mode": {
    "name": "ipython",
    "version": 3
   },
   "file_extension": ".py",
   "mimetype": "text/x-python",
   "name": "python",
   "nbconvert_exporter": "python",
   "pygments_lexer": "ipython3",
   "version": "3.6.10"
  }
 },
 "nbformat": 4,
 "nbformat_minor": 2
}
