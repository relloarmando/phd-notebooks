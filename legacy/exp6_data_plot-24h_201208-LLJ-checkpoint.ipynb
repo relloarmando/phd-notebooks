{
 "cells": [
  {
   "cell_type": "code",
   "execution_count": 1,
   "metadata": {},
   "outputs": [],
   "source": [
    "import matplotlib.pyplot as plt\n",
    "import pandas as pd\n",
    "import numpy as np\n",
    "# ds083  GFS    NAM\n",
    "# 1deg   0.5deg  12km\n",
    "# p1s1   p2s2   p7s7\n",
    "# https://www.ncdc.noaa.gov/data-access/model-data/model-datasets/north-american-mesoscale-forecast-system-nam\n",
    "# https://www.ncdc.noaa.gov/data-access/model-data/model-datasets/global-forcast-system-gfs"
   ]
  },
  {
   "cell_type": "code",
   "execution_count": 2,
   "metadata": {},
   "outputs": [],
   "source": [
    "from netCDF4 import Dataset\n",
    "import numpy as np\n",
    "import pandas as pd\n",
    "import xarray as xr\n",
    "import matplotlib.pyplot as plt\n",
    "import wrf\n",
    "from wrf import getvar, vinterp, ALL_TIMES, destagger, to_np, interplevel"
   ]
  },
  {
   "cell_type": "code",
   "execution_count": 3,
   "metadata": {},
   "outputs": [
    {
     "name": "stdout",
     "output_type": "stream",
     "text": [
      " Volume in drive D is winBak\n",
      " Volume Serial Number is 7E87-595B\n",
      "\n",
      " Directory of D:\\ssrello\\Dropbox\\Doctorado\\_python\\interp30\n",
      "\n",
      "11/09/18  01:24 PM    <DIR>          .\n",
      "11/09/18  01:24 PM    <DIR>          ..\n",
      "11/09/18  01:18 PM        37,606,650 g1r1.nc\n",
      "11/09/18  01:18 PM        37,606,650 g1r3.nc\n",
      "11/09/18  01:18 PM        37,606,650 g1r5.nc\n",
      "11/09/18  01:18 PM        37,606,650 g2r1.nc\n",
      "11/09/18  01:18 PM        37,606,650 g2r3.nc\n",
      "11/09/18  01:18 PM        37,606,650 g2r5.nc\n",
      "11/09/18  01:18 PM        37,606,650 n1r1.nc\n",
      "11/09/18  01:18 PM        37,606,650 n1r3.nc\n",
      "11/09/18  01:18 PM        37,606,650 n1r5.nc\n",
      "11/09/18  01:18 PM        37,606,650 n2r1.nc\n",
      "11/09/18  01:18 PM        37,606,650 n2r3.nc\n",
      "11/09/18  01:18 PM        37,606,650 n2r5.nc\n",
      "06/03/19  08:12 PM            30,784 sodar_g1r1.nc\n",
      "11/07/18  04:43 PM            30,784 sodar_g1r3.nc\n",
      "11/07/18  04:45 PM            30,784 sodar_g1r5.nc\n",
      "11/07/18  04:47 PM            30,784 sodar_g2r1.nc\n",
      "11/07/18  04:49 PM            30,784 sodar_g2r3.nc\n",
      "11/07/18  04:51 PM            30,784 sodar_g2r5.nc\n",
      "11/07/18  04:53 PM            30,784 sodar_n1r1.nc\n",
      "11/07/18  04:55 PM            30,784 sodar_n1r3.nc\n",
      "11/07/18  04:57 PM            30,784 sodar_n1r5.nc\n",
      "11/07/18  04:59 PM            30,784 sodar_n2r1.nc\n",
      "11/07/18  05:01 PM            30,784 sodar_n2r3.nc\n",
      "11/07/18  05:03 PM            30,784 sodar_n2r5.nc\n",
      "              24 File(s)    451,649,208 bytes\n",
      "               2 Dir(s)  126,236,340,224 bytes free\n"
     ]
    }
   ],
   "source": [
    "ls \"interp30\""
   ]
  },
  {
   "cell_type": "code",
   "execution_count": 26,
   "metadata": {},
   "outputs": [
    {
     "data": {
      "text/plain": [
       "'20120816_d03_gfs05_p1r3'"
      ]
     },
     "execution_count": 26,
     "metadata": {},
     "output_type": "execute_result"
    }
   ],
   "source": [
    "expruns = ['20120816_d03_gfs05_p1r1', '20120816_d03_gfs05_p1r3','20120816_d03_gfs05_p1r5',\n",
    "           '20120816_d03_gfs05_p2r1', '20120816_d03_gfs05_p2r3','20120816_d03_gfs05_p2r5',\n",
    "           '20120816_d03_nam32_p1r1', '20120816_d03_nam32_p1r3','20120816_d03_nam32_p1r5',\n",
    "           '20120816_d03_nam32_p2r1', '20120816_d03_nam32_p2r3','20120816_d03_nam32_p2r5',\n",
    "           ]\n",
    "expnames = ['g1r1', 'g1r3', 'g1r5', 'g2r1', 'g2r3', 'g2r5', \n",
    "            'n1r1', 'n1r3', 'n1r5', 'n2r1', 'n2r3', 'n2r5']\n",
    "expruns[1]"
   ]
  },
  {
   "cell_type": "code",
   "execution_count": 4,
   "metadata": {},
   "outputs": [
    {
     "name": "stderr",
     "output_type": "stream",
     "text": [
      "C:\\Users\\ssrel\\Anaconda3\\lib\\site-packages\\pandas\\plotting\\_matplotlib\\converter.py:103: FutureWarning: Using an implicitly registered datetime converter for a matplotlib plotting method. The converter was registered by pandas on import. Future versions of pandas will require you to explicitly register matplotlib converters.\n",
      "\n",
      "To register the converters:\n",
      "\t>>> from pandas.plotting import register_matplotlib_converters\n",
      "\t>>> register_matplotlib_converters()\n",
      "  warnings.warn(msg, FutureWarning)\n"
     ]
    },
    {
     "data": {
      "text/plain": [
       "[<matplotlib.lines.Line2D at 0x23ed22214a8>]"
      ]
     },
     "execution_count": 4,
     "metadata": {},
     "output_type": "execute_result"
    },
    {
     "data": {
      "image/png": "[encoded data removed]",
      "text/plain": [
       "<Figure size 432x288 with 1 Axes>"
      ]
     },
     "metadata": {
      "needs_background": "light"
     },
     "output_type": "display_data"
    }
   ],
   "source": [
    "g1r1 = xr.open_dataset('interp30/sodar_g1r1.nc')\n",
    "g1r1['tv30'][:,1].plot()\n",
    "g1r1['uv30'][:,1].plot()\n"
   ]
  },
  {
   "cell_type": "code",
   "execution_count": 5,
   "metadata": {
    "scrolled": false
   },
   "outputs": [],
   "source": [
    "# READ WRF INTERP DATA\n",
    "idw = [0,2,3,4,5,6,7,8,9,10,11]\n",
    "ids = [0,2,7,12,17,22,27,32,37,42,47]\n",
    "t1, t2, t3, t4 = '2012-08-16 12:00', '2012-08-17 12:00', '2012-08-18 12:00', '2012-08-19 12:00'\n",
    "\n",
    "wrf1 = xr.open_dataset('interp30/sodar_g1r1.nc')['uv30']\n",
    "wrf2 = xr.open_dataset('interp30/sodar_g1r3.nc')['uv30']\n",
    "wrf3 = xr.open_dataset('interp30/sodar_g1r5.nc')['uv30']\n",
    "wrf4 = xr.open_dataset('interp30/sodar_g2r1.nc')['uv30']\n",
    "wrf5 = xr.open_dataset('interp30/sodar_g2r3.nc')['uv30']\n",
    "wrf6 = xr.open_dataset('interp30/sodar_g1r5.nc')['uv30']\n",
    "wrf7 = xr.open_dataset('interp30/sodar_n1r1.nc')['uv30']\n",
    "wrf8 = xr.open_dataset('interp30/sodar_n1r3.nc')['uv30']\n",
    "\n",
    "drw1 = xr.open_dataset('interp30/sodar_g1r1.nc')['wd30']\n",
    "drw2 = xr.open_dataset('interp30/sodar_g1r3.nc')['wd30']\n",
    "drw3 = xr.open_dataset('interp30/sodar_g1r5.nc')['wd30']\n",
    "drw4 = xr.open_dataset('interp30/sodar_g2r1.nc')['wd30']\n",
    "drw5 = xr.open_dataset('interp30/sodar_g2r3.nc')['wd30']\n",
    "drw6 = xr.open_dataset('interp30/sodar_g1r5.nc')['wd30']\n",
    "drw7 = xr.open_dataset('interp30/sodar_n1r1.nc')['wd30']\n",
    "drw8 = xr.open_dataset('interp30/sodar_n1r3.nc')['wd30']\n",
    "\n",
    "tv1 = xr.open_dataset('interp30/sodar_g1r1.nc')['tv30']\n",
    "tv2 = xr.open_dataset('interp30/sodar_g1r3.nc')['tv30']\n",
    "tv3 = xr.open_dataset('interp30/sodar_g1r5.nc')['tv30']\n",
    "tv4 = xr.open_dataset('interp30/sodar_g2r1.nc')['tv30']\n",
    "tv5 = xr.open_dataset('interp30/sodar_g2r3.nc')['tv30']\n",
    "tv6 = xr.open_dataset('interp30/sodar_g1r5.nc')['tv30']\n",
    "tv7 = xr.open_dataset('interp30/sodar_n1r1.nc')['tv30']\n",
    "tv8 = xr.open_dataset('interp30/sodar_n1r3.nc')['tv30']\n",
    "\n",
    "sread_w =  pd.read_pickle('sodar_sp.pk')\n",
    "sread_d =  pd.read_pickle('sodar_dd.pk')\n",
    "sread_t =  pd.read_pickle('sodar_tv.pk')\n",
    "\n",
    "sodarw =  sread_w.iloc[:,ids][t1:t4].interpolate()\n",
    "sodard =  sread_d.iloc[:,ids][t1:t4].interpolate()\n",
    "sodart =  sread_t.iloc[:,ids][t1:t4].interpolate()\n",
    "\n",
    "sodarw1 = sread_w.iloc[:,ids][t1:t2].interpolate()\n",
    "sodarw2 = sread_w.iloc[:,ids][t2:t3].interpolate()\n",
    "sodarw3 = sread_w.iloc[:,ids][t3:t4].interpolate()\n",
    "sodart1 = sread_t.iloc[:,ids][t1:t2].interpolate()\n",
    "sodart2 = sread_t.iloc[:,ids][t2:t3].interpolate()\n",
    "sodart3 = sread_t.iloc[:,ids][t3:t4].interpolate()"
   ]
  },
  {
   "cell_type": "code",
   "execution_count": 40,
   "metadata": {
    "scrolled": false
   },
   "outputs": [],
   "source": [
    "def panelPlot(level,t1,t2):\n",
    "    skey = sodarw1.keys()[level]\n",
    "    wkey = wrf1.interp_level.values*1000\n",
    "    fig, axs = plt.subplots(2, 3, figsize=(12,7))\n",
    "    fig.subplots_adjust(left=0.08, right=0.98, wspace=0.3)\n",
    "    for axl in range(0,2):\n",
    "        for axc in range(0,3):\n",
    "            plt.setp( axs[axl,axc].xaxis.get_majorticklabels(), rotation=25 )\n",
    "            axs[0,0].set_ylabel('Wind Speed')\n",
    "            axs[1,0].set_ylabel('Virtual Temperature')\n",
    "\n",
    "    ax = axs[0, 0]\n",
    "    #x1 = sodarw1[t1:t2].index\n",
    "    ax.plot(x1, sodarw1.iloc[:,level]) #label='sodarW')\n",
    "    ax.plot(wrf1[t1:t2][:,level]) #label=expnames[1])\n",
    "    ax.plot(wrf2[t1:t2][:,level]) #label=expnames[2])\n",
    "    ax.plot(wrf3[t1:t2][:,level]) #label=expnames[3])\n",
    "    ax.legend();\n",
    "\n",
    "    ax = axs[0, 1]\n",
    "    #x2 = sodarw2[t1:t2].index\n",
    "    ax.plot(x2, sodarw2[:,level]) #label='sodarW')\n",
    "    ax.plot(wrf1[t2:t3][:,level]) #label=expnames[1])\n",
    "    ax.plot(wrf2[t2:t3][:,level]) #label=expnames[2])\n",
    "    ax.plot(wrf3[t2:t3][:,level]) #label=expnames[3])\n",
    "    ax.legend();\n",
    "\n",
    "    #ax = axs[0, 2]\n",
    "    x3 = sodarw3[t1:t2].index\n",
    "    ax.plot(x3, sodarw3[:,level]) #label='sodarW')\n",
    "    ax.plot(wrf1[t3:t4][:,level]) #label=expnames[1])\n",
    "    ax.plot(wrf2[t3:t4][:,level]) #label=expnames[2])\n",
    "    ax.plot(wrf3[t3:t4][:,level]) #label=expnames[3])\n",
    "    ax.legend();\n",
    "\n",
    "    ax = axs[1, 0]\n",
    "    #ax.plot(x1, sodart1[:,level]) #label='sodarTV')\n",
    "    ax.plot(tv1[t1:t2][:,level]) #label=expnames[1])\n",
    "    ax.plot(tv2[t1:t2][:,level]) #label=expnames[2])\n",
    "    ax.plot(tv3[t1:t2][:,level]) #label=expnames[3])\n",
    "    ax.legend();\n",
    "\n",
    "    ax = axs[1, 1]\n",
    "    #ax.plot(x2, sodart2[:,level]) #label='sodarTV');\n",
    "    ax.plot(tv1[t2:t3][:,level]) #label=expnames[1])\n",
    "    ax.plot(tv2[t2:t3][:,level]) #label=expnames[2])\n",
    "    ax.plot(tv3[t2:t3][:,level]) #label=expnames[3])\n",
    "    ax.legend();\n",
    "\n",
    "    ax = axs[1, 2]\n",
    "    #ax.plot(x3, sodart3[:,level]) #label='sodarTV');\n",
    "    ax.plot(tv1[t3:t4][:,level]) #label=expnames[1])\n",
    "    ax.plot(tv2[t3:t4][:,level]) #label=expnames[2])\n",
    "    ax.plot(tv3[t3:t4][:,level]) #label=expnames[3])\n",
    "    ax.legend();\n",
    "    plt.suptitle('Wind Speed '+skey);\n",
    "    \n",
    "    print(level, skey, wkey)\n",
    "    #plt.savefig('figs/panelPlotd'+skey+'.png', dpi=300)"
   ]
  },
  {
   "cell_type": "code",
   "execution_count": 41,
   "metadata": {},
   "outputs": [
    {
     "ename": "NameError",
     "evalue": "name 'x1' is not defined",
     "output_type": "error",
     "traceback": [
      "\u001b[1;31m---------------------------------------------------------------------------\u001b[0m",
      "\u001b[1;31mNameError\u001b[0m                                 Traceback (most recent call last)",
      "\u001b[1;32m<ipython-input-41-e5693e5507ef>\u001b[0m in \u001b[0;36m<module>\u001b[1;34m\u001b[0m\n\u001b[1;32m----> 1\u001b[1;33m \u001b[0mpanelPlot\u001b[0m\u001b[1;33m(\u001b[0m\u001b[0mlevel\u001b[0m\u001b[1;33m=\u001b[0m\u001b[1;36m1\u001b[0m\u001b[1;33m,\u001b[0m\u001b[0mt1\u001b[0m\u001b[1;33m=\u001b[0m\u001b[1;36m0\u001b[0m\u001b[1;33m,\u001b[0m\u001b[0mt2\u001b[0m\u001b[1;33m=\u001b[0m\u001b[1;36m48\u001b[0m\u001b[1;33m)\u001b[0m\u001b[1;33m\u001b[0m\u001b[1;33m\u001b[0m\u001b[0m\n\u001b[0m",
      "\u001b[1;32m<ipython-input-40-ba5e9a962600>\u001b[0m in \u001b[0;36mpanelPlot\u001b[1;34m(level, t1, t2)\u001b[0m\n\u001b[0;32m     12\u001b[0m     \u001b[0max\u001b[0m \u001b[1;33m=\u001b[0m \u001b[0maxs\u001b[0m\u001b[1;33m[\u001b[0m\u001b[1;36m0\u001b[0m\u001b[1;33m,\u001b[0m \u001b[1;36m0\u001b[0m\u001b[1;33m]\u001b[0m\u001b[1;33m\u001b[0m\u001b[1;33m\u001b[0m\u001b[0m\n\u001b[0;32m     13\u001b[0m     \u001b[1;31m#x1 = sodarw1[t1:t2].index\u001b[0m\u001b[1;33m\u001b[0m\u001b[1;33m\u001b[0m\u001b[1;33m\u001b[0m\u001b[0m\n\u001b[1;32m---> 14\u001b[1;33m     \u001b[0max\u001b[0m\u001b[1;33m.\u001b[0m\u001b[0mplot\u001b[0m\u001b[1;33m(\u001b[0m\u001b[0mx1\u001b[0m\u001b[1;33m,\u001b[0m \u001b[0msodarw1\u001b[0m\u001b[1;33m.\u001b[0m\u001b[0miloc\u001b[0m\u001b[1;33m[\u001b[0m\u001b[1;33m:\u001b[0m\u001b[1;33m,\u001b[0m\u001b[0mlevel\u001b[0m\u001b[1;33m]\u001b[0m\u001b[1;33m)\u001b[0m \u001b[1;31m#label='sodarW')\u001b[0m\u001b[1;33m\u001b[0m\u001b[1;33m\u001b[0m\u001b[0m\n\u001b[0m\u001b[0;32m     15\u001b[0m     \u001b[0max\u001b[0m\u001b[1;33m.\u001b[0m\u001b[0mplot\u001b[0m\u001b[1;33m(\u001b[0m\u001b[0mwrf1\u001b[0m\u001b[1;33m[\u001b[0m\u001b[0mt1\u001b[0m\u001b[1;33m:\u001b[0m\u001b[0mt2\u001b[0m\u001b[1;33m]\u001b[0m\u001b[1;33m[\u001b[0m\u001b[1;33m:\u001b[0m\u001b[1;33m,\u001b[0m\u001b[0mlevel\u001b[0m\u001b[1;33m]\u001b[0m\u001b[1;33m)\u001b[0m \u001b[1;31m#label=expnames[1])\u001b[0m\u001b[1;33m\u001b[0m\u001b[1;33m\u001b[0m\u001b[0m\n\u001b[0;32m     16\u001b[0m     \u001b[0max\u001b[0m\u001b[1;33m.\u001b[0m\u001b[0mplot\u001b[0m\u001b[1;33m(\u001b[0m\u001b[0mwrf2\u001b[0m\u001b[1;33m[\u001b[0m\u001b[0mt1\u001b[0m\u001b[1;33m:\u001b[0m\u001b[0mt2\u001b[0m\u001b[1;33m]\u001b[0m\u001b[1;33m[\u001b[0m\u001b[1;33m:\u001b[0m\u001b[1;33m,\u001b[0m\u001b[0mlevel\u001b[0m\u001b[1;33m]\u001b[0m\u001b[1;33m)\u001b[0m \u001b[1;31m#label=expnames[2])\u001b[0m\u001b[1;33m\u001b[0m\u001b[1;33m\u001b[0m\u001b[0m\n",
      "\u001b[1;31mNameError\u001b[0m: name 'x1' is not defined"
     ]
    },
    {
     "data": {
      "image/png": "[encoded data removed]",
      "text/plain": [
       "<Figure size 864x504 with 6 Axes>"
      ]
     },
     "metadata": {
      "needs_background": "light"
     },
     "output_type": "display_data"
    }
   ],
   "source": [
    "panelPlot(level=1,t1=0,t2=48)"
   ]
  },
  {
   "cell_type": "code",
   "execution_count": 16,
   "metadata": {},
   "outputs": [],
   "source": [
    "def panelPlot2(level,t1,t2):\n",
    "    skey = sodarw1.keys()[level]\n",
    "    wkey = wrf1.interp_level.values*1000\n",
    "    fig, axs = plt.subplots(2, 3, figsize=(15,9))\n",
    "    fig.subplots_adjust(left=0.08, right=0.98, wspace=0.15, hspace=0.3)\n",
    "    for axl in range(0,2):\n",
    "        for axc in range(0,3):\n",
    "            plt.setp( axs[axl,axc].xaxis.get_majorticklabels(), rotation=25 )\n",
    "            axs[0,0].set_ylabel('Wind Speed')\n",
    "            axs[1,0].set_ylabel('Wind Speed')\n",
    "    lw = 0.6\n",
    "    ax = axs[0, 0]\n",
    "    ax.set_ylim([0, 12])\n",
    "    ax.plot(sodarw1.index, sodarw1.iloc[:,level], label='sodarW')\n",
    "    ax.plot(wrf1[t1:t2].iloc[:,level], label=expnames[0], linewidth=lw)\n",
    "    ax.plot(wrf2[t1:t2].iloc[:,level], label=expnames[1], linewidth=lw)\n",
    "    ax.plot(wrf3[t1:t2].iloc[:,level], label=expnames[2], linewidth=lw)\n",
    "    ax.plot(wrf4[t1:t2].iloc[:,level], label=expnames[3], linewidth=lw)\n",
    "    ax.legend();\n",
    "\n",
    "    ax = axs[0, 1]\n",
    "    ax.set_ylim([0, 12])\n",
    "    ax.plot(sodarw2.index, sodarw2.iloc[:,level], label='sodarW')\n",
    "    ax.plot(wrf1[t2:t3].iloc[:,level], label=expnames[0], linewidth=lw)\n",
    "    ax.plot(wrf2[t2:t3].iloc[:,level], label=expnames[1], linewidth=lw)\n",
    "    ax.plot(wrf3[t2:t3].iloc[:,level], label=expnames[2], linewidth=lw)\n",
    "    ax.plot(wrf4[t2:t3].iloc[:,level], label=expnames[3], linewidth=lw)\n",
    "    ax.legend();\n",
    "\n",
    "    ax = axs[0, 2]\n",
    "    ax.set_ylim([0, 12])\n",
    "    ax.plot(sodarw3.index, sodarw3.iloc[:,level], label='sodarW')\n",
    "    ax.plot(wrf1[t3:t4].iloc[:,level], label=expnames[0], linewidth=lw)\n",
    "    ax.plot(wrf2[t3:t4].iloc[:,level], label=expnames[1], linewidth=lw)\n",
    "    ax.plot(wrf3[t3:t4].iloc[:,level], label=expnames[2], linewidth=lw)\n",
    "    ax.plot(wrf4[t3:t4].iloc[:,level], label=expnames[3], linewidth=lw)\n",
    "    ax.legend();\n",
    "\n",
    "    ax = axs[1, 0]\n",
    "    ax.set_ylim([0, 12])\n",
    "    ax.plot(sodarw1.index, sodarw1.iloc[:,level], label='sodarW')\n",
    "    ax.plot(wrf5[t1:t2].iloc[:,level], label=expnames[4], linewidth=lw)\n",
    "    ax.plot(wrf6[t1:t2].iloc[:,level], label=expnames[5], linewidth=lw)\n",
    "    ax.plot(wrf7[t1:t2].iloc[:,level], label=expnames[6], linewidth=lw)\n",
    "    ax.plot(wrf8[t1:t2].iloc[:,level], label=expnames[7], linewidth=lw)\n",
    "    ax.legend();\n",
    "\n",
    "    ax = axs[1, 1]\n",
    "    ax.set_ylim([0, 12])\n",
    "    ax.plot(sodarw2.index, sodarw2.iloc[:,level], label='sodarW')\n",
    "    ax.plot(wrf5[t2:t3].iloc[:,level], label=expnames[4], linewidth=lw)\n",
    "    ax.plot(wrf6[t2:t3].iloc[:,level], label=expnames[5], linewidth=lw)\n",
    "    ax.plot(wrf7[t2:t3].iloc[:,level], label=expnames[6], linewidth=lw)\n",
    "    ax.plot(wrf8[t2:t3].iloc[:,level], label=expnames[7], linewidth=lw)\n",
    "    ax.legend();\n",
    "\n",
    "    ax = axs[1, 2]\n",
    "    ax.set_ylim([0, 12])\n",
    "    ax.plot(sodarw3.index, sodarw3.iloc[:,level], label='sodarW')\n",
    "    ax.plot(wrf5[t3:t4].iloc[:,level], label=expnames[4], linewidth=lw)\n",
    "    ax.plot(wrf6[t3:t4].iloc[:,level], label=expnames[5], linewidth=lw)\n",
    "    ax.plot(wrf7[t3:t4].iloc[:,level], label=expnames[6], linewidth=lw)\n",
    "    ax.plot(wrf8[t3:t4].iloc[:,level], label=expnames[7], linewidth=lw)\n",
    "    ax.legend();\n",
    "\n",
    "    plt.suptitle('Wind Speed '+skey);\n",
    "    # expnames = [1'gp1r1', 2'gp1r5', 3'np1r1', 4'np1r3',\n",
    "    #             5'np1r5', 6'np7r1', 7'np7r3', 8'np7r5']\n",
    "\n",
    "    print(level, skey, wkey)\n",
    "    plt.savefig('figs/panelPlotd'+skey+'.png', dpi=300)"
   ]
  },
  {
   "cell_type": "code",
   "execution_count": 17,
   "metadata": {},
   "outputs": [],
   "source": [
    "def ProfilesPanel1(tt):\n",
    "    fig, axs = plt.subplots(1, 2, figsize=(13,8))\n",
    "    fig.subplots_adjust(left=0.08, right=0.98, wspace=0.2)\n",
    "    axs[0].set_ylabel('m AGL')\n",
    "    #axs[1].set_ylabel('m AGL')\n",
    "    axs[0].set_xlabel('Wind Speed')\n",
    "    axs[1].set_xlabel('Virtual Temperature')\n",
    "    plot_levs = [30,50,100,150,200,250,300,350,400,450,500]\n",
    " \n",
    "    ts = wrf2.iloc[tt,:].name\n",
    "    d = ts.strftime('d%d-%H:%M')\n",
    "    \n",
    "    ax = axs[0]\n",
    "    ax.plot(sodarw.iloc[tt,:], plot_levs, label='SOD '+str(d), ls='solid', color='b')\n",
    "    vdir = np.radians(sodard.iloc[tt,:])\n",
    "    xx, uu, vv = sodarw.iloc[tt,:], -np.sin(vdir), -np.cos(vdir)\n",
    "    ax.quiver(xx, plot_levs, uu, vv, pivot='mid', color='b')\n",
    "    \n",
    "    ax.plot(wrf1.iloc[tt,:], plot_levs, label=expnames[0], ls='-', color='0.2')\n",
    "    ax.plot(wrf2.iloc[tt,:], plot_levs, label=expnames[1], ls='--', color='0.2')\n",
    "    ax.plot(wrf3.iloc[tt,:], plot_levs, label=expnames[2], ls='-.', color='0.2')\n",
    "    ax.plot(wrf4.iloc[tt,:], plot_levs, label=expnames[3], ls=':', color='0.2')\n",
    "    ax.plot(wrf5.iloc[tt,:], plot_levs, label=expnames[4], ls='--', color='0.4')      \n",
    "    ax.plot(wrf6.iloc[tt,:], plot_levs, label=expnames[5], ls='--', color='0.4')\n",
    "    ax.plot(wrf7.iloc[tt,:], plot_levs, label=expnames[6], ls='-.', color='0.4')\n",
    "    ax.plot(wrf8.iloc[tt,:], plot_levs, label=expnames[7], ls=':', color='0.4')\n",
    "    vdir = np.radians(drw1.iloc[tt,:])\n",
    "    ax.quiver(wrf1.iloc[tt,:], plot_levs, -np.sin(vdir), -np.cos(vdir), pivot='mid', color='0.4')        \n",
    "    vdir = np.radians(drw4.iloc[tt,:])\n",
    "    ax.quiver(wrf4.iloc[tt,:], plot_levs, -np.sin(vdir), -np.cos(vdir), pivot='mid', color='0.6')        \n",
    "    vdir = np.radians(drw7.iloc[tt,:])\n",
    "    ax.quiver(wrf7.iloc[tt,:], plot_levs, -np.sin(vdir), -np.cos(vdir), pivot='mid', color='0.8')        \n",
    "    ax.legend()\n",
    "\n",
    "    ax = axs[1]\n",
    "    ax.plot(sodart.iloc[tt,:], plot_levs, label='SOD '+str(d), ls='solid', color='b')        \n",
    "    ax.plot(tv1.iloc[tt,:], plot_levs, label=expnames[0], ls='-', color='0.2')\n",
    "    ax.plot(tv2.iloc[tt,:], plot_levs, label=expnames[1], ls='--', color='0.2')\n",
    "    ax.plot(tv3.iloc[tt,:], plot_levs, label=expnames[2], ls='-.', color='0.2')\n",
    "    ax.plot(tv4.iloc[tt,:], plot_levs, label=expnames[3], ls=':', color='0.2')\n",
    "    ax.plot(tv5.iloc[tt,:], plot_levs, label=expnames[4], ls='-', color='0.4')\n",
    "    ax.plot(tv6.iloc[tt,:], plot_levs, label=expnames[5], ls='--', color='0.4')\n",
    "    ax.plot(tv7.iloc[tt,:], plot_levs, label=expnames[6], ls='-.', color='0.4')\n",
    "    ax.plot(tv8.iloc[tt,:], plot_levs, label=expnames[7], ls=':', color='0.4')\n",
    "    ax.legend()\n",
    "\n",
    "    #plt.title(' Wind Profile ')\n",
    "    #plt.ylabel(' m AGL ')\n",
    "    #plt.xlabel(' Wind Speed ')\n",
    "    #plt.savefig('figs/ProfilesPanel_'+skey+'.png', dpi=300)"
   ]
  },
  {
   "cell_type": "code",
   "execution_count": 18,
   "metadata": {},
   "outputs": [],
   "source": [
    "def ProfilesPanel2(tstart,tend,deltat,wrfrun):\n",
    "    fig, axs = plt.subplots(1, 2, figsize=(12,7))\n",
    "    fig.subplots_adjust(left=0.08, right=0.98, wspace=0.3)\n",
    "    axs[0].set_ylabel('m AGL')\n",
    "    axs[1].set_ylabel('m AGL')\n",
    "    axs[0].set_xlabel('Wind Speed')\n",
    "    axs[1].set_xlabel('Virtual Temperature')\n",
    "    plot_levs = [30,50,100,150,200,250,300,350,400,450,500]\n",
    "    marker=['x', 'o', '^']\n",
    "    color=['k','r','b','g']\n",
    "    i=0\n",
    "    for tt in np.arange(tstart,tend,deltat):\n",
    "        ax = axs[0]\n",
    "        ts = eval('wrfrun.iloc[tt,:].name')\n",
    "        d = ts.strftime('d%d-%H:%M')\n",
    "        ax.plot(wrf1.iloc[tt,:], plot_levs, label='WRF '+str(d), ls='dashed', color=color[i])\n",
    "        #vdir = np.radians(drw1.iloc[tt,:])    \n",
    "        #ax.quiver(wrf1.iloc[tt,:], plot_levs, -np.sin(vdir), -np.cos(vdir), pivot='mid', color='k')\n",
    "        \n",
    "        ax.plot(sodarw.iloc[tt,:], plot_levs, label='SOD '+str(d), ls='solid', color=color[i])\n",
    "        #vdir = np.radians(drw1.iloc[tt,:])    \n",
    "        #ax.quiver(sodarw.iloc[tt,:], plot_levs, -np.sin(vdir), -np.cos(vdir), pivot='mid', color='k')\n",
    "        ax.legend()\n",
    "        \n",
    "        ax = axs[1]\n",
    "        ax.plot(tv1.iloc[tt,:], plot_levs, label='WRF '+str(d), ls='dashed', color=color[i])\n",
    "        ax.plot(sodart.iloc[tt,:], plot_levs, label='SOD '+str(d), ls='solid', color=color[i])        \n",
    "        ax.legend()\n",
    "        i=i+1\n",
    "    #plt.title(' Wind Profile ')\n",
    "    #plt.ylabel(' m AGL ')\n",
    "    #plt.xlabel(' Wind Speed ')\n",
    "    #plt.savefig('fisg/ProfilesPanel_'+skey+'.png', dpi=300)"
   ]
  },
  {
   "cell_type": "code",
   "execution_count": 31,
   "metadata": {},
   "outputs": [
    {
     "data": {
      "text/html": [
       "<pre>&lt;xarray.DataArray &#x27;uv30&#x27; (Time: 49)&gt;\n",
       "array([2.020774, 3.997773, 5.916296, 6.178871, 6.925642, 7.643921, 7.396463,\n",
       "       7.685166, 7.810608, 8.269227, 7.660404, 6.920727, 6.373589, 5.785645,\n",
       "       5.760035, 5.275974, 5.220217, 4.161553, 3.728978, 3.27395 , 2.444221,\n",
       "       2.008065, 0.770074, 0.987286, 1.715008, 2.307831, 2.502367, 1.950814,\n",
       "       1.168   , 0.780795, 1.088248, 1.341145, 0.71967 , 0.78399 , 1.230529,\n",
       "       1.282462, 1.365295, 1.166333, 1.105504, 0.709272, 0.736007, 0.536861,\n",
       "       1.072933, 0.762363, 0.908255, 1.69737 , 1.857102, 2.373798, 2.947002],\n",
       "      dtype=float32)\n",
       "Coordinates:\n",
       "  * Time          (Time) datetime64[ns] 2012-08-16T12:00:00 ... 2012-08-17T12:00:00\n",
       "    interp_level  float64 0.05</pre>"
      ],
      "text/plain": [
       "<xarray.DataArray 'uv30' (Time: 49)>\n",
       "array([2.020774, 3.997773, 5.916296, 6.178871, 6.925642, 7.643921, 7.396463,\n",
       "       7.685166, 7.810608, 8.269227, 7.660404, 6.920727, 6.373589, 5.785645,\n",
       "       5.760035, 5.275974, 5.220217, 4.161553, 3.728978, 3.27395 , 2.444221,\n",
       "       2.008065, 0.770074, 0.987286, 1.715008, 2.307831, 2.502367, 1.950814,\n",
       "       1.168   , 0.780795, 1.088248, 1.341145, 0.71967 , 0.78399 , 1.230529,\n",
       "       1.282462, 1.365295, 1.166333, 1.105504, 0.709272, 0.736007, 0.536861,\n",
       "       1.072933, 0.762363, 0.908255, 1.69737 , 1.857102, 2.373798, 2.947002],\n",
       "      dtype=float32)\n",
       "Coordinates:\n",
       "  * Time          (Time) datetime64[ns] 2012-08-16T12:00:00 ... 2012-08-17T12:00:00\n",
       "    interp_level  float64 0.05"
      ]
     },
     "execution_count": 31,
     "metadata": {},
     "output_type": "execute_result"
    }
   ],
   "source": [
    "level=2;t1=0;t2=49\n",
    "wrf1[t1:t2][:,level]"
   ]
  },
  {
   "cell_type": "code",
   "execution_count": 36,
   "metadata": {
    "scrolled": false
   },
   "outputs": [
    {
     "name": "stderr",
     "output_type": "stream",
     "text": [
      "No handles with labels found to put in legend.\n"
     ]
    },
    {
     "ename": "TypeError",
     "evalue": "'(slice(0, 49, None), 2)' is an invalid key",
     "output_type": "error",
     "traceback": [
      "\u001b[1;31m---------------------------------------------------------------------------\u001b[0m",
      "\u001b[1;31mTypeError\u001b[0m                                 Traceback (most recent call last)",
      "\u001b[1;32m<ipython-input-36-d64df5c0d6a2>\u001b[0m in \u001b[0;36m<module>\u001b[1;34m\u001b[0m\n\u001b[1;32m----> 1\u001b[1;33m \u001b[0mpanelPlot\u001b[0m\u001b[1;33m(\u001b[0m\u001b[0mlevel\u001b[0m\u001b[1;33m=\u001b[0m\u001b[1;36m2\u001b[0m\u001b[1;33m,\u001b[0m\u001b[0mt1\u001b[0m\u001b[1;33m=\u001b[0m\u001b[1;36m0\u001b[0m\u001b[1;33m,\u001b[0m\u001b[0mt2\u001b[0m\u001b[1;33m=\u001b[0m\u001b[1;36m49\u001b[0m\u001b[1;33m)\u001b[0m\u001b[1;33m\u001b[0m\u001b[1;33m\u001b[0m\u001b[0m\n\u001b[0m\u001b[0;32m      2\u001b[0m \u001b[1;31m# d17 08h\u001b[0m\u001b[1;33m\u001b[0m\u001b[1;33m\u001b[0m\u001b[1;33m\u001b[0m\u001b[0m\n\u001b[0;32m      3\u001b[0m \u001b[1;31m# d18 06h\u001b[0m\u001b[1;33m\u001b[0m\u001b[1;33m\u001b[0m\u001b[1;33m\u001b[0m\u001b[0m\n",
      "\u001b[1;32m<ipython-input-35-adbe225c35c8>\u001b[0m in \u001b[0;36mpanelPlot\u001b[1;34m(level, t1, t2)\u001b[0m\n\u001b[0;32m     20\u001b[0m     \u001b[0max\u001b[0m \u001b[1;33m=\u001b[0m \u001b[0maxs\u001b[0m\u001b[1;33m[\u001b[0m\u001b[1;36m0\u001b[0m\u001b[1;33m,\u001b[0m \u001b[1;36m1\u001b[0m\u001b[1;33m]\u001b[0m\u001b[1;33m\u001b[0m\u001b[1;33m\u001b[0m\u001b[0m\n\u001b[0;32m     21\u001b[0m     \u001b[0mx2\u001b[0m \u001b[1;33m=\u001b[0m \u001b[0msodarw2\u001b[0m\u001b[1;33m[\u001b[0m\u001b[0mt1\u001b[0m\u001b[1;33m:\u001b[0m\u001b[0mt2\u001b[0m\u001b[1;33m]\u001b[0m\u001b[1;33m.\u001b[0m\u001b[0mindex\u001b[0m\u001b[1;33m\u001b[0m\u001b[1;33m\u001b[0m\u001b[0m\n\u001b[1;32m---> 22\u001b[1;33m     \u001b[0max\u001b[0m\u001b[1;33m.\u001b[0m\u001b[0mplot\u001b[0m\u001b[1;33m(\u001b[0m\u001b[0mx2\u001b[0m\u001b[1;33m,\u001b[0m \u001b[0msodarw2\u001b[0m\u001b[1;33m[\u001b[0m\u001b[0mt1\u001b[0m\u001b[1;33m:\u001b[0m\u001b[0mt2\u001b[0m\u001b[1;33m,\u001b[0m\u001b[0mlevel\u001b[0m\u001b[1;33m]\u001b[0m\u001b[1;33m)\u001b[0m \u001b[1;31m#label='sodarW')\u001b[0m\u001b[1;33m\u001b[0m\u001b[1;33m\u001b[0m\u001b[0m\n\u001b[0m\u001b[0;32m     23\u001b[0m     \u001b[0max\u001b[0m\u001b[1;33m.\u001b[0m\u001b[0mplot\u001b[0m\u001b[1;33m(\u001b[0m\u001b[0mwrf1\u001b[0m\u001b[1;33m[\u001b[0m\u001b[0mt2\u001b[0m\u001b[1;33m:\u001b[0m\u001b[0mt3\u001b[0m\u001b[1;33m]\u001b[0m\u001b[1;33m[\u001b[0m\u001b[1;33m:\u001b[0m\u001b[1;33m,\u001b[0m\u001b[0mlevel\u001b[0m\u001b[1;33m]\u001b[0m\u001b[1;33m)\u001b[0m \u001b[1;31m#label=expnames[1])\u001b[0m\u001b[1;33m\u001b[0m\u001b[1;33m\u001b[0m\u001b[0m\n\u001b[0;32m     24\u001b[0m     \u001b[0max\u001b[0m\u001b[1;33m.\u001b[0m\u001b[0mplot\u001b[0m\u001b[1;33m(\u001b[0m\u001b[0mwrf2\u001b[0m\u001b[1;33m[\u001b[0m\u001b[0mt2\u001b[0m\u001b[1;33m:\u001b[0m\u001b[0mt3\u001b[0m\u001b[1;33m]\u001b[0m\u001b[1;33m[\u001b[0m\u001b[1;33m:\u001b[0m\u001b[1;33m,\u001b[0m\u001b[0mlevel\u001b[0m\u001b[1;33m]\u001b[0m\u001b[1;33m)\u001b[0m \u001b[1;31m#label=expnames[2])\u001b[0m\u001b[1;33m\u001b[0m\u001b[1;33m\u001b[0m\u001b[0m\n",
      "\u001b[1;32m~\\Anaconda3\\lib\\site-packages\\pandas\\core\\frame.py\u001b[0m in \u001b[0;36m__getitem__\u001b[1;34m(self, key)\u001b[0m\n\u001b[0;32m   2993\u001b[0m             \u001b[1;32mif\u001b[0m \u001b[0mself\u001b[0m\u001b[1;33m.\u001b[0m\u001b[0mcolumns\u001b[0m\u001b[1;33m.\u001b[0m\u001b[0mnlevels\u001b[0m \u001b[1;33m>\u001b[0m \u001b[1;36m1\u001b[0m\u001b[1;33m:\u001b[0m\u001b[1;33m\u001b[0m\u001b[1;33m\u001b[0m\u001b[0m\n\u001b[0;32m   2994\u001b[0m                 \u001b[1;32mreturn\u001b[0m \u001b[0mself\u001b[0m\u001b[1;33m.\u001b[0m\u001b[0m_getitem_multilevel\u001b[0m\u001b[1;33m(\u001b[0m\u001b[0mkey\u001b[0m\u001b[1;33m)\u001b[0m\u001b[1;33m\u001b[0m\u001b[1;33m\u001b[0m\u001b[0m\n\u001b[1;32m-> 2995\u001b[1;33m             \u001b[0mindexer\u001b[0m \u001b[1;33m=\u001b[0m \u001b[0mself\u001b[0m\u001b[1;33m.\u001b[0m\u001b[0mcolumns\u001b[0m\u001b[1;33m.\u001b[0m\u001b[0mget_loc\u001b[0m\u001b[1;33m(\u001b[0m\u001b[0mkey\u001b[0m\u001b[1;33m)\u001b[0m\u001b[1;33m\u001b[0m\u001b[1;33m\u001b[0m\u001b[0m\n\u001b[0m\u001b[0;32m   2996\u001b[0m             \u001b[1;32mif\u001b[0m \u001b[0mis_integer\u001b[0m\u001b[1;33m(\u001b[0m\u001b[0mindexer\u001b[0m\u001b[1;33m)\u001b[0m\u001b[1;33m:\u001b[0m\u001b[1;33m\u001b[0m\u001b[1;33m\u001b[0m\u001b[0m\n\u001b[0;32m   2997\u001b[0m                 \u001b[0mindexer\u001b[0m \u001b[1;33m=\u001b[0m \u001b[1;33m[\u001b[0m\u001b[0mindexer\u001b[0m\u001b[1;33m]\u001b[0m\u001b[1;33m\u001b[0m\u001b[1;33m\u001b[0m\u001b[0m\n",
      "\u001b[1;32m~\\Anaconda3\\lib\\site-packages\\pandas\\core\\indexes\\base.py\u001b[0m in \u001b[0;36mget_loc\u001b[1;34m(self, key, method, tolerance)\u001b[0m\n\u001b[0;32m   2895\u001b[0m                 )\n\u001b[0;32m   2896\u001b[0m             \u001b[1;32mtry\u001b[0m\u001b[1;33m:\u001b[0m\u001b[1;33m\u001b[0m\u001b[1;33m\u001b[0m\u001b[0m\n\u001b[1;32m-> 2897\u001b[1;33m                 \u001b[1;32mreturn\u001b[0m \u001b[0mself\u001b[0m\u001b[1;33m.\u001b[0m\u001b[0m_engine\u001b[0m\u001b[1;33m.\u001b[0m\u001b[0mget_loc\u001b[0m\u001b[1;33m(\u001b[0m\u001b[0mkey\u001b[0m\u001b[1;33m)\u001b[0m\u001b[1;33m\u001b[0m\u001b[1;33m\u001b[0m\u001b[0m\n\u001b[0m\u001b[0;32m   2898\u001b[0m             \u001b[1;32mexcept\u001b[0m \u001b[0mKeyError\u001b[0m\u001b[1;33m:\u001b[0m\u001b[1;33m\u001b[0m\u001b[1;33m\u001b[0m\u001b[0m\n\u001b[0;32m   2899\u001b[0m                 \u001b[1;32mreturn\u001b[0m \u001b[0mself\u001b[0m\u001b[1;33m.\u001b[0m\u001b[0m_engine\u001b[0m\u001b[1;33m.\u001b[0m\u001b[0mget_loc\u001b[0m\u001b[1;33m(\u001b[0m\u001b[0mself\u001b[0m\u001b[1;33m.\u001b[0m\u001b[0m_maybe_cast_indexer\u001b[0m\u001b[1;33m(\u001b[0m\u001b[0mkey\u001b[0m\u001b[1;33m)\u001b[0m\u001b[1;33m)\u001b[0m\u001b[1;33m\u001b[0m\u001b[1;33m\u001b[0m\u001b[0m\n",
      "\u001b[1;32mpandas/_libs/index.pyx\u001b[0m in \u001b[0;36mpandas._libs.index.IndexEngine.get_loc\u001b[1;34m()\u001b[0m\n",
      "\u001b[1;32mpandas/_libs/index.pyx\u001b[0m in \u001b[0;36mpandas._libs.index.IndexEngine.get_loc\u001b[1;34m()\u001b[0m\n",
      "\u001b[1;31mTypeError\u001b[0m: '(slice(0, 49, None), 2)' is an invalid key"
     ]
    },
    {
     "ename": "ValueError",
     "evalue": "view limit minimum -36736.625 is less than 1 and is an invalid Matplotlib date value. This often happens if you pass a non-datetime value to an axis that has datetime units",
     "output_type": "error",
     "traceback": [
      "\u001b[1;31m---------------------------------------------------------------------------\u001b[0m",
      "\u001b[1;31mValueError\u001b[0m                                Traceback (most recent call last)",
      "\u001b[1;32m~\\Anaconda3\\lib\\site-packages\\ipykernel\\pylab\\backend_inline.py\u001b[0m in \u001b[0;36mshow\u001b[1;34m(close, block)\u001b[0m\n\u001b[0;32m     41\u001b[0m             display(\n\u001b[0;32m     42\u001b[0m                 \u001b[0mfigure_manager\u001b[0m\u001b[1;33m.\u001b[0m\u001b[0mcanvas\u001b[0m\u001b[1;33m.\u001b[0m\u001b[0mfigure\u001b[0m\u001b[1;33m,\u001b[0m\u001b[1;33m\u001b[0m\u001b[1;33m\u001b[0m\u001b[0m\n\u001b[1;32m---> 43\u001b[1;33m                 \u001b[0mmetadata\u001b[0m\u001b[1;33m=\u001b[0m\u001b[0m_fetch_figure_metadata\u001b[0m\u001b[1;33m(\u001b[0m\u001b[0mfigure_manager\u001b[0m\u001b[1;33m.\u001b[0m\u001b[0mcanvas\u001b[0m\u001b[1;33m.\u001b[0m\u001b[0mfigure\u001b[0m\u001b[1;33m)\u001b[0m\u001b[1;33m\u001b[0m\u001b[1;33m\u001b[0m\u001b[0m\n\u001b[0m\u001b[0;32m     44\u001b[0m             )\n\u001b[0;32m     45\u001b[0m     \u001b[1;32mfinally\u001b[0m\u001b[1;33m:\u001b[0m\u001b[1;33m\u001b[0m\u001b[1;33m\u001b[0m\u001b[0m\n",
      "\u001b[1;32m~\\Anaconda3\\lib\\site-packages\\ipykernel\\pylab\\backend_inline.py\u001b[0m in \u001b[0;36m_fetch_figure_metadata\u001b[1;34m(fig)\u001b[0m\n\u001b[0;32m    179\u001b[0m         \u001b[1;31m# the background is transparent\u001b[0m\u001b[1;33m\u001b[0m\u001b[1;33m\u001b[0m\u001b[1;33m\u001b[0m\u001b[0m\n\u001b[0;32m    180\u001b[0m         ticksLight = _is_light([label.get_color()\n\u001b[1;32m--> 181\u001b[1;33m                                 \u001b[1;32mfor\u001b[0m \u001b[0maxes\u001b[0m \u001b[1;32min\u001b[0m \u001b[0mfig\u001b[0m\u001b[1;33m.\u001b[0m\u001b[0maxes\u001b[0m\u001b[1;33m\u001b[0m\u001b[1;33m\u001b[0m\u001b[0m\n\u001b[0m\u001b[0;32m    182\u001b[0m                                 \u001b[1;32mfor\u001b[0m \u001b[0maxis\u001b[0m \u001b[1;32min\u001b[0m \u001b[1;33m(\u001b[0m\u001b[0maxes\u001b[0m\u001b[1;33m.\u001b[0m\u001b[0mxaxis\u001b[0m\u001b[1;33m,\u001b[0m \u001b[0maxes\u001b[0m\u001b[1;33m.\u001b[0m\u001b[0myaxis\u001b[0m\u001b[1;33m)\u001b[0m\u001b[1;33m\u001b[0m\u001b[1;33m\u001b[0m\u001b[0m\n\u001b[0;32m    183\u001b[0m                                 for label in axis.get_ticklabels()])\n",
      "\u001b[1;32m~\\Anaconda3\\lib\\site-packages\\ipykernel\\pylab\\backend_inline.py\u001b[0m in \u001b[0;36m<listcomp>\u001b[1;34m(.0)\u001b[0m\n\u001b[0;32m    181\u001b[0m                                 \u001b[1;32mfor\u001b[0m \u001b[0maxes\u001b[0m \u001b[1;32min\u001b[0m \u001b[0mfig\u001b[0m\u001b[1;33m.\u001b[0m\u001b[0maxes\u001b[0m\u001b[1;33m\u001b[0m\u001b[1;33m\u001b[0m\u001b[0m\n\u001b[0;32m    182\u001b[0m                                 \u001b[1;32mfor\u001b[0m \u001b[0maxis\u001b[0m \u001b[1;32min\u001b[0m \u001b[1;33m(\u001b[0m\u001b[0maxes\u001b[0m\u001b[1;33m.\u001b[0m\u001b[0mxaxis\u001b[0m\u001b[1;33m,\u001b[0m \u001b[0maxes\u001b[0m\u001b[1;33m.\u001b[0m\u001b[0myaxis\u001b[0m\u001b[1;33m)\u001b[0m\u001b[1;33m\u001b[0m\u001b[1;33m\u001b[0m\u001b[0m\n\u001b[1;32m--> 183\u001b[1;33m                                 for label in axis.get_ticklabels()])\n\u001b[0m\u001b[0;32m    184\u001b[0m         \u001b[1;32mif\u001b[0m \u001b[0mticksLight\u001b[0m\u001b[1;33m.\u001b[0m\u001b[0msize\u001b[0m \u001b[1;32mand\u001b[0m \u001b[1;33m(\u001b[0m\u001b[0mticksLight\u001b[0m \u001b[1;33m==\u001b[0m \u001b[0mticksLight\u001b[0m\u001b[1;33m[\u001b[0m\u001b[1;36m0\u001b[0m\u001b[1;33m]\u001b[0m\u001b[1;33m)\u001b[0m\u001b[1;33m.\u001b[0m\u001b[0mall\u001b[0m\u001b[1;33m(\u001b[0m\u001b[1;33m)\u001b[0m\u001b[1;33m:\u001b[0m\u001b[1;33m\u001b[0m\u001b[1;33m\u001b[0m\u001b[0m\n\u001b[0;32m    185\u001b[0m             \u001b[1;31m# there are one or more tick labels, all with the same lightness\u001b[0m\u001b[1;33m\u001b[0m\u001b[1;33m\u001b[0m\u001b[1;33m\u001b[0m\u001b[0m\n",
      "\u001b[1;32m~\\Anaconda3\\lib\\site-packages\\matplotlib\\axis.py\u001b[0m in \u001b[0;36mget_ticklabels\u001b[1;34m(self, minor, which)\u001b[0m\n\u001b[0;32m   1294\u001b[0m         \u001b[1;32mif\u001b[0m \u001b[0mminor\u001b[0m\u001b[1;33m:\u001b[0m\u001b[1;33m\u001b[0m\u001b[1;33m\u001b[0m\u001b[0m\n\u001b[0;32m   1295\u001b[0m             \u001b[1;32mreturn\u001b[0m \u001b[0mself\u001b[0m\u001b[1;33m.\u001b[0m\u001b[0mget_minorticklabels\u001b[0m\u001b[1;33m(\u001b[0m\u001b[1;33m)\u001b[0m\u001b[1;33m\u001b[0m\u001b[1;33m\u001b[0m\u001b[0m\n\u001b[1;32m-> 1296\u001b[1;33m         \u001b[1;32mreturn\u001b[0m \u001b[0mself\u001b[0m\u001b[1;33m.\u001b[0m\u001b[0mget_majorticklabels\u001b[0m\u001b[1;33m(\u001b[0m\u001b[1;33m)\u001b[0m\u001b[1;33m\u001b[0m\u001b[1;33m\u001b[0m\u001b[0m\n\u001b[0m\u001b[0;32m   1297\u001b[0m \u001b[1;33m\u001b[0m\u001b[0m\n\u001b[0;32m   1298\u001b[0m     \u001b[1;32mdef\u001b[0m \u001b[0mget_majorticklines\u001b[0m\u001b[1;33m(\u001b[0m\u001b[0mself\u001b[0m\u001b[1;33m)\u001b[0m\u001b[1;33m:\u001b[0m\u001b[1;33m\u001b[0m\u001b[1;33m\u001b[0m\u001b[0m\n",
      "\u001b[1;32m~\\Anaconda3\\lib\\site-packages\\matplotlib\\axis.py\u001b[0m in \u001b[0;36mget_majorticklabels\u001b[1;34m(self)\u001b[0m\n\u001b[0;32m   1250\u001b[0m     \u001b[1;32mdef\u001b[0m \u001b[0mget_majorticklabels\u001b[0m\u001b[1;33m(\u001b[0m\u001b[0mself\u001b[0m\u001b[1;33m)\u001b[0m\u001b[1;33m:\u001b[0m\u001b[1;33m\u001b[0m\u001b[1;33m\u001b[0m\u001b[0m\n\u001b[0;32m   1251\u001b[0m         \u001b[1;34m'Return a list of Text instances for the major ticklabels.'\u001b[0m\u001b[1;33m\u001b[0m\u001b[1;33m\u001b[0m\u001b[0m\n\u001b[1;32m-> 1252\u001b[1;33m         \u001b[0mticks\u001b[0m \u001b[1;33m=\u001b[0m \u001b[0mself\u001b[0m\u001b[1;33m.\u001b[0m\u001b[0mget_major_ticks\u001b[0m\u001b[1;33m(\u001b[0m\u001b[1;33m)\u001b[0m\u001b[1;33m\u001b[0m\u001b[1;33m\u001b[0m\u001b[0m\n\u001b[0m\u001b[0;32m   1253\u001b[0m         \u001b[0mlabels1\u001b[0m \u001b[1;33m=\u001b[0m \u001b[1;33m[\u001b[0m\u001b[0mtick\u001b[0m\u001b[1;33m.\u001b[0m\u001b[0mlabel1\u001b[0m \u001b[1;32mfor\u001b[0m \u001b[0mtick\u001b[0m \u001b[1;32min\u001b[0m \u001b[0mticks\u001b[0m \u001b[1;32mif\u001b[0m \u001b[0mtick\u001b[0m\u001b[1;33m.\u001b[0m\u001b[0mlabel1\u001b[0m\u001b[1;33m.\u001b[0m\u001b[0mget_visible\u001b[0m\u001b[1;33m(\u001b[0m\u001b[1;33m)\u001b[0m\u001b[1;33m]\u001b[0m\u001b[1;33m\u001b[0m\u001b[1;33m\u001b[0m\u001b[0m\n\u001b[0;32m   1254\u001b[0m         \u001b[0mlabels2\u001b[0m \u001b[1;33m=\u001b[0m \u001b[1;33m[\u001b[0m\u001b[0mtick\u001b[0m\u001b[1;33m.\u001b[0m\u001b[0mlabel2\u001b[0m \u001b[1;32mfor\u001b[0m \u001b[0mtick\u001b[0m \u001b[1;32min\u001b[0m \u001b[0mticks\u001b[0m \u001b[1;32mif\u001b[0m \u001b[0mtick\u001b[0m\u001b[1;33m.\u001b[0m\u001b[0mlabel2\u001b[0m\u001b[1;33m.\u001b[0m\u001b[0mget_visible\u001b[0m\u001b[1;33m(\u001b[0m\u001b[1;33m)\u001b[0m\u001b[1;33m]\u001b[0m\u001b[1;33m\u001b[0m\u001b[1;33m\u001b[0m\u001b[0m\n",
      "\u001b[1;32m~\\Anaconda3\\lib\\site-packages\\matplotlib\\axis.py\u001b[0m in \u001b[0;36mget_major_ticks\u001b[1;34m(self, numticks)\u001b[0m\n\u001b[0;32m   1405\u001b[0m         \u001b[1;34m'Get the tick instances; grow as necessary.'\u001b[0m\u001b[1;33m\u001b[0m\u001b[1;33m\u001b[0m\u001b[0m\n\u001b[0;32m   1406\u001b[0m         \u001b[1;32mif\u001b[0m \u001b[0mnumticks\u001b[0m \u001b[1;32mis\u001b[0m \u001b[1;32mNone\u001b[0m\u001b[1;33m:\u001b[0m\u001b[1;33m\u001b[0m\u001b[1;33m\u001b[0m\u001b[0m\n\u001b[1;32m-> 1407\u001b[1;33m             \u001b[0mnumticks\u001b[0m \u001b[1;33m=\u001b[0m \u001b[0mlen\u001b[0m\u001b[1;33m(\u001b[0m\u001b[0mself\u001b[0m\u001b[1;33m.\u001b[0m\u001b[0mget_majorticklocs\u001b[0m\u001b[1;33m(\u001b[0m\u001b[1;33m)\u001b[0m\u001b[1;33m)\u001b[0m\u001b[1;33m\u001b[0m\u001b[1;33m\u001b[0m\u001b[0m\n\u001b[0m\u001b[0;32m   1408\u001b[0m \u001b[1;33m\u001b[0m\u001b[0m\n\u001b[0;32m   1409\u001b[0m         \u001b[1;32mwhile\u001b[0m \u001b[0mlen\u001b[0m\u001b[1;33m(\u001b[0m\u001b[0mself\u001b[0m\u001b[1;33m.\u001b[0m\u001b[0mmajorTicks\u001b[0m\u001b[1;33m)\u001b[0m \u001b[1;33m<\u001b[0m \u001b[0mnumticks\u001b[0m\u001b[1;33m:\u001b[0m\u001b[1;33m\u001b[0m\u001b[1;33m\u001b[0m\u001b[0m\n",
      "\u001b[1;32m~\\Anaconda3\\lib\\site-packages\\matplotlib\\axis.py\u001b[0m in \u001b[0;36mget_majorticklocs\u001b[1;34m(self)\u001b[0m\n\u001b[0;32m   1322\u001b[0m     \u001b[1;32mdef\u001b[0m \u001b[0mget_majorticklocs\u001b[0m\u001b[1;33m(\u001b[0m\u001b[0mself\u001b[0m\u001b[1;33m)\u001b[0m\u001b[1;33m:\u001b[0m\u001b[1;33m\u001b[0m\u001b[1;33m\u001b[0m\u001b[0m\n\u001b[0;32m   1323\u001b[0m         \u001b[1;34m\"\"\"Get the array of major tick locations in data coordinates.\"\"\"\u001b[0m\u001b[1;33m\u001b[0m\u001b[1;33m\u001b[0m\u001b[0m\n\u001b[1;32m-> 1324\u001b[1;33m         \u001b[1;32mreturn\u001b[0m \u001b[0mself\u001b[0m\u001b[1;33m.\u001b[0m\u001b[0mmajor\u001b[0m\u001b[1;33m.\u001b[0m\u001b[0mlocator\u001b[0m\u001b[1;33m(\u001b[0m\u001b[1;33m)\u001b[0m\u001b[1;33m\u001b[0m\u001b[1;33m\u001b[0m\u001b[0m\n\u001b[0m\u001b[0;32m   1325\u001b[0m \u001b[1;33m\u001b[0m\u001b[0m\n\u001b[0;32m   1326\u001b[0m     \u001b[1;32mdef\u001b[0m \u001b[0mget_minorticklocs\u001b[0m\u001b[1;33m(\u001b[0m\u001b[0mself\u001b[0m\u001b[1;33m)\u001b[0m\u001b[1;33m:\u001b[0m\u001b[1;33m\u001b[0m\u001b[1;33m\u001b[0m\u001b[0m\n",
      "\u001b[1;32m~\\Anaconda3\\lib\\site-packages\\matplotlib\\dates.py\u001b[0m in \u001b[0;36m__call__\u001b[1;34m(self)\u001b[0m\n\u001b[0;32m   1429\u001b[0m     \u001b[1;32mdef\u001b[0m \u001b[0m__call__\u001b[0m\u001b[1;33m(\u001b[0m\u001b[0mself\u001b[0m\u001b[1;33m)\u001b[0m\u001b[1;33m:\u001b[0m\u001b[1;33m\u001b[0m\u001b[1;33m\u001b[0m\u001b[0m\n\u001b[0;32m   1430\u001b[0m         \u001b[1;34m'Return the locations of the ticks'\u001b[0m\u001b[1;33m\u001b[0m\u001b[1;33m\u001b[0m\u001b[0m\n\u001b[1;32m-> 1431\u001b[1;33m         \u001b[0mself\u001b[0m\u001b[1;33m.\u001b[0m\u001b[0mrefresh\u001b[0m\u001b[1;33m(\u001b[0m\u001b[1;33m)\u001b[0m\u001b[1;33m\u001b[0m\u001b[1;33m\u001b[0m\u001b[0m\n\u001b[0m\u001b[0;32m   1432\u001b[0m         \u001b[1;32mreturn\u001b[0m \u001b[0mself\u001b[0m\u001b[1;33m.\u001b[0m\u001b[0m_locator\u001b[0m\u001b[1;33m(\u001b[0m\u001b[1;33m)\u001b[0m\u001b[1;33m\u001b[0m\u001b[1;33m\u001b[0m\u001b[0m\n\u001b[0;32m   1433\u001b[0m \u001b[1;33m\u001b[0m\u001b[0m\n",
      "\u001b[1;32m~\\Anaconda3\\lib\\site-packages\\matplotlib\\dates.py\u001b[0m in \u001b[0;36mrefresh\u001b[1;34m(self)\u001b[0m\n\u001b[0;32m   1449\u001b[0m     \u001b[1;32mdef\u001b[0m \u001b[0mrefresh\u001b[0m\u001b[1;33m(\u001b[0m\u001b[0mself\u001b[0m\u001b[1;33m)\u001b[0m\u001b[1;33m:\u001b[0m\u001b[1;33m\u001b[0m\u001b[1;33m\u001b[0m\u001b[0m\n\u001b[0;32m   1450\u001b[0m         \u001b[1;34m'Refresh internal information based on current limits.'\u001b[0m\u001b[1;33m\u001b[0m\u001b[1;33m\u001b[0m\u001b[0m\n\u001b[1;32m-> 1451\u001b[1;33m         \u001b[0mdmin\u001b[0m\u001b[1;33m,\u001b[0m \u001b[0mdmax\u001b[0m \u001b[1;33m=\u001b[0m \u001b[0mself\u001b[0m\u001b[1;33m.\u001b[0m\u001b[0mviewlim_to_dt\u001b[0m\u001b[1;33m(\u001b[0m\u001b[1;33m)\u001b[0m\u001b[1;33m\u001b[0m\u001b[1;33m\u001b[0m\u001b[0m\n\u001b[0m\u001b[0;32m   1452\u001b[0m         \u001b[0mself\u001b[0m\u001b[1;33m.\u001b[0m\u001b[0m_locator\u001b[0m \u001b[1;33m=\u001b[0m \u001b[0mself\u001b[0m\u001b[1;33m.\u001b[0m\u001b[0mget_locator\u001b[0m\u001b[1;33m(\u001b[0m\u001b[0mdmin\u001b[0m\u001b[1;33m,\u001b[0m \u001b[0mdmax\u001b[0m\u001b[1;33m)\u001b[0m\u001b[1;33m\u001b[0m\u001b[1;33m\u001b[0m\u001b[0m\n\u001b[0;32m   1453\u001b[0m \u001b[1;33m\u001b[0m\u001b[0m\n",
      "\u001b[1;32m~\\Anaconda3\\lib\\site-packages\\matplotlib\\dates.py\u001b[0m in \u001b[0;36mviewlim_to_dt\u001b[1;34m(self)\u001b[0m\n\u001b[0;32m   1200\u001b[0m                              \u001b[1;34m'often happens if you pass a non-datetime '\u001b[0m\u001b[1;33m\u001b[0m\u001b[1;33m\u001b[0m\u001b[0m\n\u001b[0;32m   1201\u001b[0m                              \u001b[1;34m'value to an axis that has datetime units'\u001b[0m\u001b[1;33m\u001b[0m\u001b[1;33m\u001b[0m\u001b[0m\n\u001b[1;32m-> 1202\u001b[1;33m                              .format(vmin))\n\u001b[0m\u001b[0;32m   1203\u001b[0m         \u001b[1;32mreturn\u001b[0m \u001b[0mnum2date\u001b[0m\u001b[1;33m(\u001b[0m\u001b[0mvmin\u001b[0m\u001b[1;33m,\u001b[0m \u001b[0mself\u001b[0m\u001b[1;33m.\u001b[0m\u001b[0mtz\u001b[0m\u001b[1;33m)\u001b[0m\u001b[1;33m,\u001b[0m \u001b[0mnum2date\u001b[0m\u001b[1;33m(\u001b[0m\u001b[0mvmax\u001b[0m\u001b[1;33m,\u001b[0m \u001b[0mself\u001b[0m\u001b[1;33m.\u001b[0m\u001b[0mtz\u001b[0m\u001b[1;33m)\u001b[0m\u001b[1;33m\u001b[0m\u001b[1;33m\u001b[0m\u001b[0m\n\u001b[0;32m   1204\u001b[0m \u001b[1;33m\u001b[0m\u001b[0m\n",
      "\u001b[1;31mValueError\u001b[0m: view limit minimum -36736.625 is less than 1 and is an invalid Matplotlib date value. This often happens if you pass a non-datetime value to an axis that has datetime units"
     ]
    }
   ],
   "source": [
    "panelPlot(level=2,t1=0,t2=49)\n",
    "# d17 08h\n",
    "# d18 06h\n"
   ]
  },
  {
   "cell_type": "code",
   "execution_count": null,
   "metadata": {},
   "outputs": [],
   "source": [
    "from netCDF4 import Dataset\n",
    "import numpy as np\n",
    "import pandas as pd\n",
    "import matplotlib.pyplot as plt\n",
    "import wrf\n",
    "from wrf import getvar, vinterp, ALL_TIMES, destagger, to_np, interplevel"
   ]
  },
  {
   "cell_type": "code",
   "execution_count": null,
   "metadata": {},
   "outputs": [],
   "source": [
    "ll=21\n",
    "lncn=22"
   ]
  },
  {
   "cell_type": "code",
   "execution_count": null,
   "metadata": {},
   "outputs": [],
   "source": [
    "def wrf30m(f,tt,ztop):\n",
    "    #f = 'exp6link/20120816_d03_gfs05_p1r1.nc'\n",
    "    ncfile = Dataset(f)\n",
    "    #tt = 1\n",
    "    #ztop = 15\n",
    "    utc2loc = np.timedelta64(6,'h')\n",
    "    wrftime = getvar(ncfile, \"times\", timeidx=tt*3)\n",
    "    time30 = pd.to_datetime(wrftime.values)-utc2loc\n",
    "\n",
    "    tts = np.arange(3*tt-2,3*tt+1,1)\n",
    "    ncfile = Dataset(f)\n",
    "    uv, wd, tv, ua, va, wa, zh, p = {}, {}, {}, {}, {}, {}, {}, {}\n",
    "    for ii in range(3):\n",
    "        p[ii] = getvar(ncfile, \"p\", units=\"hPa\", timeidx=tts[ii])[:ztop,ll,:]\n",
    "        zh[ii] = getvar(ncfile, \"z\", units=\"m\", timeidx=tts[ii])[:ztop,ll,:]\n",
    "        ua[ii] = getvar(ncfile, \"ua\", units=\"m s-1\", timeidx=tts[ii])[:ztop,ll,:]\n",
    "        va[ii] = getvar(ncfile, \"va\", units=\"m s-1\", timeidx=tts[ii])[:ztop,ll,:]\n",
    "        wa[ii] = getvar(ncfile, \"wa\", units=\"m s-1\", timeidx=tts[ii])[:ztop,ll,:]\n",
    "        uv[ii], wd[ii] = getvar(ncfile, \"uvmet_wspd_wdir\", units=\"m s-1\", timeidx=tts[ii])\n",
    "        tv[ii] = getvar(ncfile, \"tv\", units=\"degC\", timeidx=tts[ii])\n",
    "        ii=ii+1\n",
    "\n",
    "    p30 = (p[0]+p[1]+p[2])/3\n",
    "    p30['Time'] = time30\n",
    "    z30 = (zh[0]+zh[1]+zh[2])/3\n",
    "    z30['Time'] = time30\n",
    "\n",
    "    ua30 = (ua[0]+ua[1]+ua[2])/3\n",
    "    ua30['Time'] = time30\n",
    "    va30 = (va[0]+va[1]+va[2])/3\n",
    "    va30['Time'] = time30\n",
    "    wa30 = (wa[0]+wa[1]+wa[2])/3\n",
    "    wa30['Time'] = time30\n",
    "\n",
    "    uv30 = (uv[0]+uv[1]+uv[2])/3\n",
    "    uv30['Time'] = time30\n",
    "    wd30 = (wd[0]+wd[1]+wd[2])/3\n",
    "    wd30['Time'] = time30\n",
    "    \n",
    "    tv30 = (tv[0]+tv[1]+tv[2])/3\n",
    "    tv30['Time'] = time30\n",
    "    \n",
    "    return uv30, wd30, tv30, p30, z30, ua30, va30, wa30\n"
   ]
  },
  {
   "cell_type": "code",
   "execution_count": null,
   "metadata": {
    "scrolled": false
   },
   "outputs": [],
   "source": [
    "uv30, wd30, tv30, p30, z30, ua30, va30, wa30 = wrf30m(f='exp6link/20120816_d03_gfs05_p1r1.nc',tt=2, ztop=15)\n"
   ]
  },
  {
   "cell_type": "code",
   "execution_count": null,
   "metadata": {},
   "outputs": [],
   "source": [
    "def hovlon(tt,ln,ztop):\n",
    "    plt.figure(figsize=(14,6))\n",
    "\n",
    "    p = p30\n",
    "    z = z30\n",
    "    uhov = ua30\n",
    "    vhov = va30\n",
    "    whov = wa30\n",
    "    zhov = z30\n",
    "    ltcn = uv.coords['XLAT'][:,ln]\n",
    "    LATS, ZHOV = np.meshgrid(ltcn,np.arange(ztop))\n",
    "\n",
    "    wdhv = np.sqrt(np.power(vhov,2)+np.power(whov,2))\n",
    "    vmin, vmax = 0, 8\n",
    "    levels = np.arange(vmin,vmax,0.5)\n",
    "    plt.contourf(LATS, zhov, wdhv, levels=levels, vmin=vmin, vmax=vmax, cmap='rainbow')\n",
    "    plt.colorbar();\n",
    "  \n",
    "    lath = uv.coords['XLAT'][:,ln]\n",
    "    ht_850 = interplevel(z, p, 850)[:,ln]\n",
    "    ht_900 = interplevel(z, p, 900)[:,ln]\n",
    "    ht_925 = interplevel(z, p, 925)[:,ln]\n",
    "    ht_950 = interplevel(z, p, 950)[:,ln]\n",
    "    plt.plot(lath, ht_950, color='c', label='950 hPa')\n",
    "    plt.plot(lath, ht_900, color='k', label='900 hPa')\n",
    "    plt.plot(lath, ht_850, color='y', label='850 hPa')\n",
    "    plt.legend()\n",
    "\n",
    "    plt.quiver(LATS, zhov,vhov,whov)\n",
    "    timestr = uv.Time.values #- np.timedelta64(6,'h')\n",
    "    ts = pd.to_datetime(str(timestr)) \n",
    "    d = ts.strftime('%Y%m%d %H:%M')\n",
    "    lons = uv.coords['XLONG'][ln,ln].values\n",
    "    plt.gca().invert_xaxis()\n",
    "    plt.title('Wind Speed Contours for LLJ\\n at LON '+str(\"%0.2f\" %(lons))+'  Valid at '+d);"
   ]
  },
  {
   "cell_type": "code",
   "execution_count": null,
   "metadata": {},
   "outputs": [],
   "source": [
    "def hovtlon(tt,ln,ztop):\n",
    "    plt.figure(figsize=(14,6))\n",
    "    tv = tv30\n",
    "    uv = uv30\n",
    "    p = p30\n",
    "    z = z30\n",
    "    uhov = -ua30\n",
    "    vhov = -va30\n",
    "    whov = wa30\n",
    "    zhov = z30[:ztop]\n",
    "    \n",
    "    ltcn = uv.coords['XLAT'][:,ln]\n",
    "    LATS, ZHOV = np.meshgrid(ltcn,np.arange(ztop))\n",
    "\n",
    "    tvhv = tv[:ztop,ln,:]\n",
    "    vmin, vmax = 20, 36\n",
    "    levels = np.arange(vmin,vmax,0.5)\n",
    "    plt.contourf(LATS, zhov, tvhv, levels=levels, vmin=vmin, vmax=vmax, cmap='rainbow')\n",
    "    plt.colorbar();\n",
    "    CS = plt.contour(LATS, zhov, tvhv, colors='b')\n",
    "    plt.clabel(CS, inline=1, fmt='%2.1f', colors='b', fontsize=10)\n",
    "    \n",
    "    #lath = uv.coords['XLAT'][:,ln]\n",
    "    #ht_850 = interplevel(z, p, 850)[:,ln]\n",
    "    #ht_900 = interplevel(z, p, 900)[:,ln]\n",
    "    #ht_925 = interplevel(z, p, 925)[:,ln]\n",
    "    #ht_950 = interplevel(z, p, 950)[:,ln]\n",
    "    #plt.plot(lath, ht_950, color='c', label='950 hPa')\n",
    "    #plt.plot(lath, ht_900, color='k', label='900 hPa')\n",
    "    #plt.plot(lath, ht_850, color='y', label='850 hPa')\n",
    "    #plt.legend()\n",
    "\n",
    "    plt.quiver(LATS, zhov,vhov,whov)\n",
    "    timestr = uv.Time.values #- np.timedelta64(6,'h')\n",
    "    ts = pd.to_datetime(str(timestr)) \n",
    "    d = ts.strftime('%Y%m%d %H:%M')\n",
    "    lons = uv.coords['XLONG'][ln,ln].values\n",
    "    plt.gca().invert_xaxis()\n",
    "\n",
    "    plt.title('Virtual Temp Contours for LLJ\\n at LON '+str(\"%0.2f\" %(lons))+'  Valid at '+d);"
   ]
  },
  {
   "cell_type": "code",
   "execution_count": null,
   "metadata": {},
   "outputs": [],
   "source": [
    "def hovtslon(ln,ztop):\n",
    "    plt.figure(figsize=(14,6))\n",
    "    tv = tv30\n",
    "    uv = uv30\n",
    "    p = p30\n",
    "    z = z30\n",
    "    uhov = ua30\n",
    "    vhov = va30\n",
    "    whov = wa30\n",
    "    zhov = z30[:ztop]\n",
    "    \n",
    "    ltcn = uv.coords['XLAT'][:,ln]\n",
    "    LATS, ZHOV = np.meshgrid(ltcn,np.arange(ztop))\n",
    "\n",
    "    tvhv = tv[:ztop,ln,:]\n",
    "    wdhv = uv[:ztop,ln,:] #np.sqrt(np.power(vhov,2)+np.power(whov,2))\n",
    "    vmin, vmax = 0, 9\n",
    "    levels = np.arange(vmin,vmax,0.5)\n",
    "    plt.contourf(LATS, zhov, wdhv, levels=levels, vmin=vmin, vmax=vmax, cmap='rainbow')\n",
    "    plt.colorbar();\n",
    "    CS = plt.contour(LATS, zhov, tvhv, colors='b')\n",
    "    plt.clabel(CS, inline=1, fmt='%2.1f', colors='b', fontsize=10)\n",
    "    \n",
    "    #lath = uv.coords['XLAT'][:,ln]\n",
    "    #ht_850 = interplevel(z, p, 850)[:,ln]\n",
    "    #ht_900 = interplevel(z, p, 900)[:,ln]\n",
    "    #ht_925 = interplevel(z, p, 925)[:,ln]\n",
    "    #ht_950 = interplevel(z, p, 950)[:,ln]\n",
    "    #plt.plot(lath, ht_950, color='y', label='950 hPa')\n",
    "    #plt.plot(lath, ht_900, color='k', label='900 hPa')\n",
    "    #plt.plot(lath, ht_850, color='y', label='850 hPa')\n",
    "    #plt.legend()\n",
    "\n",
    "    plt.quiver(LATS, zhov,vhov,whov)\n",
    "    timestr = uv.Time.values #- np.timedelta64(6,'h')\n",
    "    ts = pd.to_datetime(str(timestr)) \n",
    "    d = ts.strftime('%Y%m%d %H:%M')\n",
    "    lons = uv.coords['XLONG'][ln,ln].values\n",
    "    #plt.gca().invert_xaxis()\n",
    "    plt.title('Wind Speed Contours for LLJ\\n at LON '+str(\"%0.2f\" %(lons))+'  Valid at '+d);"
   ]
  },
  {
   "cell_type": "code",
   "execution_count": null,
   "metadata": {
    "scrolled": false
   },
   "outputs": [],
   "source": [
    "ln, ztop = 21, 12\n",
    "uv30, wd30, tv30, p30, z30, ua30, va30, wa30 = wrf30m(f='exp6link/20120816_d03_gfs05_p1r1.nc',tt=39, ztop=ztop)\n",
    "hovtslon(ln=ln,ztop=ztop)\n",
    "#hovtslon(tt=3*36,ln=ln,ztop=ztop)\n",
    "#hovtslon(tt=3*42,ln=ln,ztop=ztop)\n",
    "uv30, wd30, tv30, p30, z30, ua30, va30, wa30 = wrf30m(f='exp6link/20120816_d03_gfs05_p1r1.nc',tt=84, ztop=ztop)\n",
    "hovtslon(ln=ln,ztop=ztop)\n",
    "#hovtslon(tt=3*86,ln=ln,ztop=ztop)\n",
    "#hovtslon(tt=3*92,ln=ln,ztop=ztop)"
   ]
  },
  {
   "cell_type": "code",
   "execution_count": null,
   "metadata": {
    "scrolled": false
   },
   "outputs": [],
   "source": [
    "plt.figure(figsize=(12,3))\n",
    "plt.plot(sodarw.iloc[:,3])\n",
    "pp=14\n",
    "plt.plot([np.datetime64('2012-08-17 07:30')]*pp, np.arange(pp), label='LLJ1 07:30')\n",
    "plt.plot([np.datetime64('2012-08-17 17:00')]*pp, np.arange(pp), label='SB1 17:00')\n",
    "plt.plot([np.datetime64('2012-08-18 06:00')]*pp, np.arange(pp), label='LLJ2 06:00')\n",
    "plt.plot([np.datetime64('2012-08-18 16:00')]*pp, np.arange(pp), label='SB2 16:00')\n",
    "plt.legend()\n",
    "#uu, vv = np.cos(sodard.iloc[::6,3].values), np.sin(sodard.iloc[::6,3].values)\n",
    "#plt.quiver(uu, vv)\n",
    "plt.grid()\n",
    "#sodard.iloc[::6,3]"
   ]
  },
  {
   "cell_type": "code",
   "execution_count": null,
   "metadata": {},
   "outputs": [],
   "source": [
    "panelPlot2(level=2)\n"
   ]
  },
  {
   "cell_type": "code",
   "execution_count": null,
   "metadata": {
    "scrolled": false
   },
   "outputs": [],
   "source": [
    "ProfilesPanel1(tt=34)\n",
    "plt.suptitle('LLJ Profile 2012-08-17');\n",
    "ProfilesPanel1(tt=38)\n",
    "plt.suptitle('LLJ Profile 2012-08-17');\n",
    "ProfilesPanel1(tt=40)\n",
    "plt.suptitle('LLJ Profile 2012-08-17');\n",
    "print('\\n\\n')\n",
    "\n",
    "ProfilesPanel1(tt=48+36)\n",
    "plt.suptitle('LLJ Profile 2012-08-18');\n",
    "ProfilesPanel1(tt=48+38)\n",
    "plt.suptitle('LLJ Profile 2012-08-18');\n",
    "ProfilesPanel1(tt=48+40)\n",
    "plt.suptitle('LLJ Profile 2012-08-18');\n"
   ]
  },
  {
   "cell_type": "code",
   "execution_count": null,
   "metadata": {},
   "outputs": [],
   "source": [
    "ProfilesPanel2(36,43,2,wrf1)\n",
    "plt.suptitle('Sea Breeze Profile 2012-08-17 17h');\n",
    "#plt.savefig('figs/Sea Breeze d17_17h_png', dpi=300)\n",
    "ProfilesPanel2(84,91,2,wrf2)\n",
    "plt.suptitle('Sea Breeze Profile 2012-08-18 16h');"
   ]
  },
  {
   "cell_type": "code",
   "execution_count": null,
   "metadata": {},
   "outputs": [],
   "source": []
  }
 ],
 "metadata": {
  "kernelspec": {
   "display_name": "Python 3",
   "language": "python",
   "name": "python3"
  },
  "language_info": {
   "codemirror_mode": {
    "name": "ipython",
    "version": 3
   },
   "file_extension": ".py",
   "mimetype": "text/x-python",
   "name": "python",
   "nbconvert_exporter": "python",
   "pygments_lexer": "ipython3",
   "version": "3.6.10"
  }
 },
 "nbformat": 4,
 "nbformat_minor": 2
}
